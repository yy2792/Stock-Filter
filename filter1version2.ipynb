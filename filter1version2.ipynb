{
 "cells": [
  {
   "cell_type": "code",
   "execution_count": 199,
   "metadata": {
    "collapsed": true
   },
   "outputs": [],
   "source": [
    "import numpy as np\n",
    "import pandas as pd\n",
    "import matplotlib.pyplot as plt\n",
    "import seaborn as sns\n",
    "from sklearn.metrics.cluster import adjusted_mutual_info_score as ami\n",
    "from sklearn.metrics.cluster import mutual_info_score as mi\n",
    "import scipy.stats as stats\n",
    "import seaborn as sns\n",
    "import collections\n",
    "import pickle\n",
    "import pandas_datareader as pdr\n",
    "from datetime import datetime"
   ]
  },
  {
   "cell_type": "code",
   "execution_count": 42,
   "metadata": {},
   "outputs": [
    {
     "name": "stdout",
     "output_type": "stream",
     "text": [
      "Requirement already satisfied: pyinter in d:\\avocado\\lib\\site-packages\n",
      "Collecting pandas_datareader\n",
      "  Downloading pandas_datareader-0.6.0-py2.py3-none-any.whl (103kB)\n",
      "Requirement already satisfied: pandas>=0.19.2 in d:\\avocado\\lib\\site-packages (from pandas_datareader)\n",
      "Requirement already satisfied: requests>=2.3.0 in d:\\avocado\\lib\\site-packages (from pandas_datareader)\n",
      "Collecting requests-ftp (from pandas_datareader)\n",
      "  Downloading requests-ftp-0.3.1.tar.gz\n",
      "Requirement already satisfied: lxml in d:\\avocado\\lib\\site-packages (from pandas_datareader)\n",
      "Collecting requests-file (from pandas_datareader)\n",
      "  Downloading requests_file-1.4.3-py2.py3-none-any.whl\n",
      "Requirement already satisfied: wrapt in d:\\avocado\\lib\\site-packages (from pandas_datareader)\n",
      "Requirement already satisfied: python-dateutil>=2 in d:\\avocado\\lib\\site-packages (from pandas>=0.19.2->pandas_datareader)\n",
      "Requirement already satisfied: pytz>=2011k in d:\\avocado\\lib\\site-packages (from pandas>=0.19.2->pandas_datareader)\n",
      "Requirement already satisfied: numpy>=1.7.0 in d:\\avocado\\lib\\site-packages (from pandas>=0.19.2->pandas_datareader)\n",
      "Requirement already satisfied: chardet<3.1.0,>=3.0.2 in d:\\avocado\\lib\\site-packages (from requests>=2.3.0->pandas_datareader)\n",
      "Requirement already satisfied: idna<2.7,>=2.5 in d:\\avocado\\lib\\site-packages (from requests>=2.3.0->pandas_datareader)\n",
      "Requirement already satisfied: urllib3<1.23,>=1.21.1 in d:\\avocado\\lib\\site-packages (from requests>=2.3.0->pandas_datareader)\n",
      "Requirement already satisfied: certifi>=2017.4.17 in d:\\avocado\\lib\\site-packages (from requests>=2.3.0->pandas_datareader)\n",
      "Requirement already satisfied: six in d:\\avocado\\lib\\site-packages (from requests-file->pandas_datareader)\n",
      "Building wheels for collected packages: requests-ftp\n",
      "  Running setup.py bdist_wheel for requests-ftp: started\n",
      "  Running setup.py bdist_wheel for requests-ftp: finished with status 'done'\n",
      "  Stored in directory: C:\\Users\\dell\\AppData\\Local\\pip\\Cache\\wheels\\76\\fb\\0d\\1026eb562c34a4982dc9d39c9c582a734eefe7f0455f711deb\n",
      "Successfully built requests-ftp\n",
      "Installing collected packages: requests-ftp, requests-file, pandas-datareader\n",
      "Successfully installed pandas-datareader-0.6.0 requests-file-1.4.3 requests-ftp-0.3.1\n"
     ]
    }
   ],
   "source": [
    "import sys\n",
    "!{sys.executable} -m pip install pyinter\n",
    "!{sys.executable} -m pip install pandas_datareader"
   ]
  },
  {
   "cell_type": "code",
   "execution_count": 147,
   "metadata": {
    "collapsed": true
   },
   "outputs": [],
   "source": [
    "import pyinter\n",
    "import re"
   ]
  },
  {
   "cell_type": "code",
   "execution_count": 175,
   "metadata": {
    "collapsed": true
   },
   "outputs": [],
   "source": [
    "nasdaq=pd.read_csv(\"companylist-1.csv\")\n",
    "nasdaq = nasdaq[[\"Name\",\"Symbol\",\"MarketCap\",\"Sector\",\"industry\"]]\n",
    "nyse=pd.read_csv(\"companylist-2.csv\")\n",
    "nyse = nyse[[\"Name\",\"Symbol\",\"MarketCap\",\"Sector\",\"industry\"]]"
   ]
  },
  {
   "cell_type": "code",
   "execution_count": 180,
   "metadata": {
    "collapsed": true
   },
   "outputs": [],
   "source": [
    "def captodi(s):\n",
    "    num = -1\n",
    "    if len(re.findall(\"\\d+\\.\\d+\", s)):\n",
    "        num = float(re.findall(\"\\d+\\.\\d+\", s)[0])\n",
    "        if s[-1] == 'M':\n",
    "            num = num*1000000\n",
    "        elif s[-1] == 'B':\n",
    "            num = num*1000000000\n",
    "    return num  "
   ]
  },
  {
   "cell_type": "code",
   "execution_count": 182,
   "metadata": {
    "collapsed": true
   },
   "outputs": [],
   "source": [
    "for i in range(nasdaq.shape[0]):\n",
    "    nasdaq['MarketCap'][i]=captodi(nasdaq['MarketCap'][i])"
   ]
  },
  {
   "cell_type": "code",
   "execution_count": 185,
   "metadata": {
    "collapsed": true
   },
   "outputs": [],
   "source": [
    "nasdaq=nasdaq[nasdaq[\"MarketCap\"]>1000000000]"
   ]
  },
  {
   "cell_type": "code",
   "execution_count": 184,
   "metadata": {
    "collapsed": true
   },
   "outputs": [],
   "source": [
    "for i in range(nyse.shape[0]):\n",
    "    nyse['MarketCap'][i]=captodi(nyse['MarketCap'][i])"
   ]
  },
  {
   "cell_type": "code",
   "execution_count": 186,
   "metadata": {
    "collapsed": true
   },
   "outputs": [],
   "source": [
    "nyse=nyse[nyse[\"MarketCap\"]>1000000000]"
   ]
  },
  {
   "cell_type": "code",
   "execution_count": 188,
   "metadata": {
    "collapsed": true
   },
   "outputs": [],
   "source": [
    "merge=pd.concat([nasdaq,nyse])\n",
    "merge=merge.reset_index(drop=True)"
   ]
  },
  {
   "cell_type": "code",
   "execution_count": 189,
   "metadata": {},
   "outputs": [
    {
     "data": {
      "text/html": [
       "<div>\n",
       "<style>\n",
       "    .dataframe thead tr:only-child th {\n",
       "        text-align: right;\n",
       "    }\n",
       "\n",
       "    .dataframe thead th {\n",
       "        text-align: left;\n",
       "    }\n",
       "\n",
       "    .dataframe tbody tr th {\n",
       "        vertical-align: top;\n",
       "    }\n",
       "</style>\n",
       "<table border=\"1\" class=\"dataframe\">\n",
       "  <thead>\n",
       "    <tr style=\"text-align: right;\">\n",
       "      <th></th>\n",
       "      <th>Name</th>\n",
       "      <th>Symbol</th>\n",
       "      <th>MarketCap</th>\n",
       "      <th>Sector</th>\n",
       "      <th>industry</th>\n",
       "      <th>duplicate</th>\n",
       "    </tr>\n",
       "  </thead>\n",
       "  <tbody>\n",
       "    <tr>\n",
       "      <th>0</th>\n",
       "      <td>1st Source Corporation</td>\n",
       "      <td>SRCE</td>\n",
       "      <td>1.35e+09</td>\n",
       "      <td>Finance</td>\n",
       "      <td>Major Banks</td>\n",
       "      <td>False</td>\n",
       "    </tr>\n",
       "    <tr>\n",
       "      <th>1</th>\n",
       "      <td>2U, Inc.</td>\n",
       "      <td>TWOU</td>\n",
       "      <td>3.79e+09</td>\n",
       "      <td>Technology</td>\n",
       "      <td>Computer Software: Prepackaged Software</td>\n",
       "      <td>False</td>\n",
       "    </tr>\n",
       "    <tr>\n",
       "      <th>2</th>\n",
       "      <td>51job, Inc.</td>\n",
       "      <td>JOBS</td>\n",
       "      <td>4.26e+09</td>\n",
       "      <td>Technology</td>\n",
       "      <td>Diversified Commercial Services</td>\n",
       "      <td>False</td>\n",
       "    </tr>\n",
       "    <tr>\n",
       "      <th>3</th>\n",
       "      <td>8point3 Energy Partners LP</td>\n",
       "      <td>CAFD</td>\n",
       "      <td>1.13e+09</td>\n",
       "      <td>Public Utilities</td>\n",
       "      <td>Electric Utilities: Central</td>\n",
       "      <td>False</td>\n",
       "    </tr>\n",
       "    <tr>\n",
       "      <th>4</th>\n",
       "      <td>8x8 Inc</td>\n",
       "      <td>EGHT</td>\n",
       "      <td>1.62e+09</td>\n",
       "      <td>Public Utilities</td>\n",
       "      <td>Telecommunications Equipment</td>\n",
       "      <td>False</td>\n",
       "    </tr>\n",
       "  </tbody>\n",
       "</table>\n",
       "</div>"
      ],
      "text/plain": [
       "                         Name Symbol MarketCap            Sector  \\\n",
       "0      1st Source Corporation   SRCE  1.35e+09           Finance   \n",
       "1                    2U, Inc.   TWOU  3.79e+09        Technology   \n",
       "2                 51job, Inc.   JOBS  4.26e+09        Technology   \n",
       "3  8point3 Energy Partners LP   CAFD  1.13e+09  Public Utilities   \n",
       "4                     8x8 Inc   EGHT  1.62e+09  Public Utilities   \n",
       "\n",
       "                                  industry  duplicate  \n",
       "0                              Major Banks      False  \n",
       "1  Computer Software: Prepackaged Software      False  \n",
       "2          Diversified Commercial Services      False  \n",
       "3              Electric Utilities: Central      False  \n",
       "4             Telecommunications Equipment      False  "
      ]
     },
     "execution_count": 189,
     "metadata": {},
     "output_type": "execute_result"
    }
   ],
   "source": [
    "merge[\"duplicate\"]=merge[\"Name\"].duplicated()\n",
    "merge_clean=merge[merge[\"duplicate\"]==False].reset_index(drop=True)\n",
    "merge_clean.head()"
   ]
  },
  {
   "cell_type": "markdown",
   "metadata": {},
   "source": [
    "mpl.rcParams['figure.figsize'] = [10,10]\n",
    "dic={}\n",
    "for i in merge_clean['Symbol']:\n",
    "    try:\n",
    "        stock = pdr.get_data_yahoo(symbols=i, start=datetime(2016,10,31), end=datetime(2018, 1, 31))\n",
    "        series=stock[\"Close\"].to_frame()\n",
    "        series.columns.values[0] = i\n",
    "        dic[i]=series\n",
    "        print(i)\n",
    "    except:\n",
    "        pass"
   ]
  },
  {
   "cell_type": "markdown",
   "metadata": {},
   "source": [
    "print(\"total successful download\",len(dic.keys()))\n",
    "print(\"total tickers\",len(merge_clean))"
   ]
  },
  {
   "cell_type": "markdown",
   "metadata": {},
   "source": [
    "matrix=pd.DataFrame()\n",
    "keys=list(dic.keys())\n",
    "for i in range(len(keys)):\n",
    "    if i==0:\n",
    "        matrix=dic[keys[i]]\n",
    "    else:\n",
    "        matrix=matrix.join(dic[keys[i]])\n",
    "    print(keys[i])"
   ]
  },
  {
   "cell_type": "markdown",
   "metadata": {},
   "source": [
    "matrix_clean=matrix.dropna(axis=1, how='any')\n",
    "matrix_clean.shape\n",
    "matrix_clean.to_csv(\"universe.csv\")"
   ]
  },
  {
   "cell_type": "code",
   "execution_count": 200,
   "metadata": {
    "collapsed": true
   },
   "outputs": [],
   "source": [
    "uni = pd.read_csv('universe.csv',sep = ',')\n",
    "uni.set_index('Date', inplace=True)"
   ]
  },
  {
   "cell_type": "code",
   "execution_count": 201,
   "metadata": {
    "collapsed": true
   },
   "outputs": [],
   "source": [
    "uni_return = uni.apply(np.log)-uni.shift(1).apply(np.log)\n",
    "uni_return=uni_return.dropna(axis=0,how='any')"
   ]
  },
  {
   "cell_type": "markdown",
   "metadata": {},
   "source": [
    "_number of bars in histgram here 10 is chosen:_"
   ]
  },
  {
   "cell_type": "code",
   "execution_count": 202,
   "metadata": {},
   "outputs": [
    {
     "data": {
      "text/plain": [
       "10"
      ]
     },
     "execution_count": 202,
     "metadata": {},
     "output_type": "execute_result"
    }
   ],
   "source": [
    "subdays = 29\n",
    "days = uni_return.shape[0]\n",
    "days//subdays"
   ]
  },
  {
   "cell_type": "code",
   "execution_count": 10,
   "metadata": {
    "collapsed": true
   },
   "outputs": [],
   "source": [
    "rnak = uni_return.rank(ascending=0,axis=0)"
   ]
  },
  {
   "cell_type": "markdown",
   "metadata": {},
   "source": [
    "_Correlation matrix_"
   ]
  },
  {
   "cell_type": "code",
   "execution_count": 203,
   "metadata": {
    "collapsed": true
   },
   "outputs": [],
   "source": [
    "corr = uni_return.corr()"
   ]
  },
  {
   "cell_type": "code",
   "execution_count": 65,
   "metadata": {
    "collapsed": true
   },
   "outputs": [],
   "source": [
    "corr.to_pickle('corr.pkl')"
   ]
  },
  {
   "cell_type": "markdown",
   "metadata": {},
   "source": [
    "_Calculate the histgram rank for each cell:_"
   ]
  },
  {
   "cell_type": "code",
   "execution_count": 204,
   "metadata": {
    "collapsed": true
   },
   "outputs": [],
   "source": [
    "def tochunkvalue(value,subdays,days,low,high):\n",
    "    i = 1\n",
    "    gap = (high-low)/(days//subdays)\n",
    "    judge = low + gap\n",
    "    while(value>judge):\n",
    "        i = i + 1\n",
    "        judge = judge + gap\n",
    "    return i\n",
    "vtochunkvalue = np.vectorize(tochunkvalue)\n",
    "\n",
    "def chunkize(serie,subdays,days):\n",
    "    low = min(serie)\n",
    "    high = max(serie)\n",
    "    a = vtochunkvalue(serie,subdays,days,low,high)\n",
    "    return a"
   ]
  },
  {
   "cell_type": "code",
   "execution_count": 205,
   "metadata": {
    "collapsed": true
   },
   "outputs": [],
   "source": [
    "chunkframe = pd.DataFrame(chunkize(uni_return['TTM'],subdays,days))\n",
    "chunkframe.columns = ['TTM']\n",
    "namelist = uni_return.columns\n",
    "for i in namelist:\n",
    "    temp = pd.DataFrame(chunkize(uni_return[i],subdays,days))\n",
    "    chunkframe[i]=temp\n",
    "chunkframe.set_index(uni_return.index,inplace = True)"
   ]
  },
  {
   "cell_type": "markdown",
   "metadata": {},
   "source": [
    "_All combinations:_"
   ]
  },
  {
   "cell_type": "code",
   "execution_count": 12,
   "metadata": {
    "collapsed": true
   },
   "outputs": [],
   "source": [
    "pairsdo = list()\n",
    "length = namelist.size\n",
    "daylength = uni_return.shape[0]\n",
    "for i in range(0,length):\n",
    "    for j in range(i, length):\n",
    "        pairsdo.append((i,j))"
   ]
  },
  {
   "cell_type": "code",
   "execution_count": 13,
   "metadata": {},
   "outputs": [
    {
     "data": {
      "text/plain": [
       "0.042599537678240061"
      ]
     },
     "execution_count": 13,
     "metadata": {},
     "output_type": "execute_result"
    }
   ],
   "source": [
    "a = np.mat(chunkframe)\n",
    "namelist = chunkframe.columns\n",
    "D = np.zeros((length,length))\n",
    "ami(np.array(a[:,1]).reshape(314,),np.array(a[:,2]).reshape(314,))"
   ]
  },
  {
   "cell_type": "code",
   "execution_count": 14,
   "metadata": {
    "collapsed": true
   },
   "outputs": [],
   "source": [
    "seg = 50\n",
    "df_split = np.array_split(pairsdo, seg)"
   ]
  },
  {
   "cell_type": "markdown",
   "metadata": {},
   "source": [
    "i = 0\n",
    "for p in df_split[0]:\n",
    "    print(i)\n",
    "    i = i+1\n",
    "    D[p[0],p[1]]=ami(np.array(a[:,p[0]]).reshape(daylength,),np.array(a[:,p[1]]).reshape(daylength,))"
   ]
  },
  {
   "cell_type": "markdown",
   "metadata": {},
   "source": [
    "_This loop will take an hour to run:_"
   ]
  },
  {
   "cell_type": "code",
   "execution_count": 50,
   "metadata": {
    "collapsed": true
   },
   "outputs": [],
   "source": [
    "for bigi in range(seg):\n",
    "    for p in df_split[bigi]:\n",
    "        D[p[0],p[1]]=ami(np.array(a[:,p[0]]).reshape(daylength,),np.array(a[:,p[1]]).reshape(daylength,))\n",
    "    np.save('mat{}.npy'.format(bigi), D)"
   ]
  },
  {
   "cell_type": "code",
   "execution_count": 15,
   "metadata": {
    "collapsed": true
   },
   "outputs": [],
   "source": [
    "D = np.load('mat49.npy')"
   ]
  },
  {
   "cell_type": "code",
   "execution_count": 16,
   "metadata": {
    "collapsed": true
   },
   "outputs": [],
   "source": [
    "muinfo = pd.DataFrame(D)\n",
    "muinfo.columns = chunkframe.columns\n",
    "muinfo.index = chunkframe.columns\n",
    "#muinfo.to_pickle('mutualinfo.pkl')"
   ]
  },
  {
   "cell_type": "code",
   "execution_count": 101,
   "metadata": {
    "collapsed": true
   },
   "outputs": [],
   "source": [
    "newpairs = list()\n",
    "for i in range(0,length):\n",
    "    for j in range(i+1, length):\n",
    "        newpairs.append((namelist[i],namelist[j]))\n",
    "numl = len(newpairs)"
   ]
  },
  {
   "cell_type": "code",
   "execution_count": 14,
   "metadata": {},
   "outputs": [
    {
     "data": {
      "text/plain": [
       "0.0089758143947346516"
      ]
     },
     "execution_count": 14,
     "metadata": {},
     "output_type": "execute_result"
    }
   ],
   "source": [
    "muinfo['MRK']['TTM']"
   ]
  },
  {
   "cell_type": "markdown",
   "metadata": {},
   "source": [
    "_Universe result:_"
   ]
  },
  {
   "cell_type": "code",
   "execution_count": 15,
   "metadata": {
    "collapsed": true
   },
   "outputs": [],
   "source": [
    "filteresult = {(p[0],p[1]):[corr[p[0]][p[1]],muinfo[p[1]][p[0]]] for p in newpairs }"
   ]
  },
  {
   "cell_type": "code",
   "execution_count": 278,
   "metadata": {
    "collapsed": true
   },
   "outputs": [],
   "source": [
    "#with open('filteresult.pickle', 'wb') as handle:\n",
    "#    pickle.dump(filteresult, handle, protocol=pickle.HIGHEST_PROTOCOL)"
   ]
  },
  {
   "cell_type": "code",
   "execution_count": 18,
   "metadata": {},
   "outputs": [
    {
     "data": {
      "text/plain": [
       "{('TTM', 'MRK'): [-0.015860566051505272, 0.0089758143947346516],\n",
       " ('TTM', 'PDCO'): [0.063840331942750975, 0.00026400741074291317],\n",
       " ('TTM', 'SCI'): [-0.041512378366911511, 0.018967462778563104],\n",
       " ('TTM', 'INFO'): [0.13350033184430601, 0.0054418248512563532],\n",
       " ('TTM', 'NVG'): [0.1865506132233592, 0.0075800145818071211],\n",
       " ('TTM', 'D'): [0.059305890367353606, -0.0049434750028299309],\n",
       " ('TTM', 'MC'): [0.086446818347149776, -0.0043387703684562157],\n",
       " ('TTM', 'TOWN'): [0.058626056974807925, 0.011401586266306702],\n",
       " ('TTM', 'PAA'): [0.07076258980770167, -0.0010913924192143764],\n",
       " ('TTM', 'MNK'): [0.13179757701058559, -0.0033483452343169096],\n",
       " ('TTM', 'CRZO'): [0.1469790983148726, 0.0028224323749305351],\n",
       " ('TTM', 'CAR'): [0.030202987207935541, 0.025741738186556971],\n",
       " ('TTM', 'IBTX'): [0.11663076627965971, 0.014588924403274065],\n",
       " ('TTM', 'IPG'): [0.080842215280393259, -0.0059030047336329425],\n",
       " ('TTM', 'TNET'): [0.10306620184965641, 0.020349235662470825],\n",
       " ('TTM', 'AJRD'): [0.10137483268790556, 0.010430727756852927],\n",
       " ('TTM', 'CNI'): [0.15357283323222287, 0.0058794092099638609],\n",
       " ('TTM', 'DLTR'): [0.071361614309590843, 0.010917686808814655],\n",
       " ('TTM', 'CTRP'): [0.20669815368524197, 0.018705883128990054],\n",
       " ('TTM', 'LYG'): [0.15271764780542368, 0.0098601648120820295],\n",
       " ('TTM', 'KAMN'): [0.11232540924193207, -0.0093737972453220939],\n",
       " ('TTM', 'ENSG'): [0.023436108459446922, 0.020267663171496055],\n",
       " ('TTM', 'EBR'): [0.087862983640185036, 0.00448916688293756],\n",
       " ('TTM', 'SIVB'): [0.072891797729143795, 0.02139850561625813],\n",
       " ('TTM', 'BTZ'): [0.14378969637114689, 0.021866948115492647],\n",
       " ('TTM', 'IXUS'): [0.3451892109382772, 0.057158868739291296],\n",
       " ('TTM', 'NWBI'): [0.060483142943847032, 0.021893339899476987],\n",
       " ('TTM', 'OAK'): [0.10829329477790012, 0.0059207102903351874],\n",
       " ('TTM', 'WYN'): [0.16174971361488305, 0.019791363052048237],\n",
       " ('TTM', 'AER'): [0.17113815344346864, 0.034368187301745658],\n",
       " ('TTM', 'HST'): [0.068651131111133357, 0.0078534224674641148],\n",
       " ('TTM', 'FTA'): [0.2080691485313011, 0.02767852430752446],\n",
       " ('TTM', 'TECD'): [0.075348499235079414, 0.0085750538222510633],\n",
       " ('TTM', 'ZAYO'): [0.06260327439383552, 0.020463868857484972],\n",
       " ('TTM', 'MIME'): [0.25008330925991745, 0.031922890189894214],\n",
       " ('TTM', 'QRVO'): [0.1803829452895736, 0.010163411976099853],\n",
       " ('TTM', 'MDSO'): [0.083726898828556856, 0.010657797263521857],\n",
       " ('TTM', 'ARI'): [0.13150282896937301, 0.0093249495224365427],\n",
       " ('TTM', 'ASML'): [0.16514173959452083, 0.01155094011056341],\n",
       " ('TTM', 'BPMC'): [0.11100305990349107, -0.0071416609504011529],\n",
       " ('TTM', 'AN'): [0.030600876838169328, 0.0087865515519644759],\n",
       " ('TTM', 'LULU'): [0.13606578453749846, 0.0085565498668961296],\n",
       " ('TTM', 'MTCH'): [0.25461263369985893, 0.013434353935333329],\n",
       " ('TTM', 'EXEL'): [0.11024719882530282, 0.011718346666462409],\n",
       " ('TTM', 'WCN'): [0.058239303230847896, 0.013687710686667295],\n",
       " ('TTM', 'CSFL'): [0.059290901359295128, 0.0067569407516085674],\n",
       " ('TTM', 'SLF'): [0.046432304013100917, 0.018672709403423863],\n",
       " ('TTM', 'OFIX'): [0.03007091818813715, -0.002001727838684614],\n",
       " ('TTM', 'VTWO'): [0.21706259862002944, 0.025755007972675541],\n",
       " ('TTM', 'MKC'): [-0.029584714713556181, -0.0056636231810038851],\n",
       " ('TTM', 'MTN'): [0.13699461811407135, -0.013737506104143919],\n",
       " ('TTM', 'SHO'): [0.096679973695620175, -0.010328851495935317],\n",
       " ('TTM', 'ARCO'): [0.085571799420825809, -0.012019493847626886],\n",
       " ('TTM', 'HLF'): [0.034940630908170088, 0.018437501061392216],\n",
       " ('TTM', 'VAC'): [0.10233801224623816, 0.013102953497098972],\n",
       " ('TTM', 'VSM'): [0.18525041429476954, 0.029629861550632953],\n",
       " ('TTM', 'UNT'): [0.13396582935156248, -0.0007619715300868342],\n",
       " ('TTM', 'SHAK'): [-0.051122905152024618, -0.0047519855534596542],\n",
       " ('TTM', 'CELG'): [0.087035900344740666, 0.025366235573935449],\n",
       " ('TTM', 'FLT'): [0.15523266516441694, 0.01329589802399153],\n",
       " ('TTM', 'XPO'): [0.03593386355459105, 0.025851808090885789],\n",
       " ('TTM', 'GPK'): [0.025510445755227148, 0.018337040459693112],\n",
       " ('TTM', 'SNV'): [0.074179079976902013, 0.015216885380237835],\n",
       " ('TTM', 'BMCH'): [0.10253596639899683, -0.0073646840880781687],\n",
       " ('TTM', 'MBT'): [0.10171780660393667, 0.0072193058015552359],\n",
       " ('TTM', 'OMI'): [0.079313309983555638, 0.0024154977048622245],\n",
       " ('TTM', 'BPY'): [0.10986390639654622, -0.0023532486521001929],\n",
       " ('TTM', 'PEP'): [0.024888039317396717, 0.0070896623765651272],\n",
       " ('TTM', 'RHI'): [0.08502454042390678, -0.013381866934457969],\n",
       " ('TTM', 'EWBC'): [0.090844348804635794, 0.01006392189996458],\n",
       " ('TTM', 'BBU'): [0.10573307995638309, 0.0025309107372045426],\n",
       " ('TTM', 'LOPE'): [0.0098641456164718939, 0.0035164792582271652],\n",
       " ('TTM', 'FISV'): [0.091788196709053096, -0.0064412821336394758],\n",
       " ('TTM', 'NDSN'): [0.010980692399671005, 0.0037573993990378603],\n",
       " ('TTM', 'CWT'): [0.099329446724898088, 0.012949226929873946],\n",
       " ('TTM', 'HI'): [0.16106069237455448, 0.027145317017928598],\n",
       " ('TTM', 'PSO'): [-0.053949193584946528, 0.0014758400982826957],\n",
       " ('TTM', 'CME'): [0.0434636317194695, 0.0088649848364863969],\n",
       " ('TTM', 'CR'): [0.12802468098440603, 0.010756603986404359],\n",
       " ('TTM', 'PFF'): [0.20878435834764661, 0.033284521538300312],\n",
       " ('TTM', 'PDP'): [0.29616782617128212, 0.037844203759973355],\n",
       " ('TTM', 'RS'): [0.12564392580040928, -0.0054959102468383775],\n",
       " ('TTM', 'POL'): [0.16657469937255623, 0.0014323656288033431],\n",
       " ('TTM', 'ENIA'): [0.10945473289762614, -0.0083676413964719702],\n",
       " ('TTM', 'SHLM'): [0.10011725429513932, -0.004550737718772944],\n",
       " ('TTM', 'CTX'): [0.065227948330993851, 0.023187745700292944],\n",
       " ('TTM', 'CBU'): [0.10288812370011806, 0.014450432642631825],\n",
       " ('TTM', 'RGC'): [0.11806603350520435, -0.00098323766473330473],\n",
       " ('TTM', 'PLCE'): [0.049334776531904642, -0.00047617177657324338],\n",
       " ('TTM', 'TLK'): [0.23422662636024347, 0.019632240582834717],\n",
       " ('TTM', 'SPGI'): [0.13497737512462823, 0.031296645750247563],\n",
       " ('TTM', 'CHCO'): [0.11704084292779145, 0.018254085239012952],\n",
       " ('TTM', 'TFSL'): [0.12264569880318657, 0.0038109188200672207],\n",
       " ('TTM', 'RNST'): [0.071583559058386745, 0.0019480679433766213],\n",
       " ('TTM', 'BRO'): [-0.0033617222098961353, 0.0031146098037908207],\n",
       " ('TTM', 'BXP'): [0.068863421802159416, 0.0010888619740720223],\n",
       " ('TTM', 'SUPV'): [0.13440933042372624, -0.0021158936099481816],\n",
       " ('TTM', 'JOE'): [0.0051707764036225106, 0.012129378475044592],\n",
       " ('TTM', 'BPL'): [0.14241643151888378, 0.012935585022925975],\n",
       " ('TTM', 'SCL'): [0.15647899783451341, 0.0077627820615070401],\n",
       " ('TTM', 'HUN'): [0.1904921870784364, 0.022464159510192368],\n",
       " ('TTM', 'JBLU'): [0.18681981649447479, -0.0030894408606822743],\n",
       " ('TTM', 'PBF'): [0.087956429393340529, -0.0059784316613665026],\n",
       " ('TTM', 'WEX'): [0.15484800127795986, 0.0035827317776894142],\n",
       " ('TTM', 'AEP'): [0.040682346396902422, -0.0038131052690465947],\n",
       " ('TTM', 'BECN'): [0.098235007639379757, -0.00071943068735801617],\n",
       " ('TTM', 'IART'): [0.05866337829484395, -0.0016446517451851356],\n",
       " ('TTM', 'HFC'): [0.046326617402641275, -0.004315806127413546],\n",
       " ('TTM', 'JAG'): [0.018421903750112763, -0.0012143153727878129],\n",
       " ('TTM', 'NBTB'): [0.092926726701284004, 0.009657701881194752],\n",
       " ('TTM', 'STL'): [0.0018259292408277694, 0.010256331030265051],\n",
       " ('TTM', 'AAAP'): [0.14427801047734282, -0.0050986449920362026],\n",
       " ('TTM', 'SFNC'): [0.085601453502604355, 0.017591236695211385],\n",
       " ('TTM', 'CERN'): [0.12262282906335645, 0.024685753312360132],\n",
       " ('TTM', 'WIRE'): [0.17101800635013464, 0.020743043016293424],\n",
       " ('TTM', 'IP'): [0.17244741465632327, 0.033055186077717999],\n",
       " ('TTM', 'VLY'): [0.059630461043015517, 0.015851145916594277],\n",
       " ('TTM', 'TR'): [-0.0027293613512898154, 0.0026120867938503188],\n",
       " ('TTM', 'SKT'): [0.059246339518231265, -0.0070714548814353323],\n",
       " ('TTM', 'MDLZ'): [0.073667040924330865, 0.0019635275419901638],\n",
       " ('TTM', 'FMC'): [0.19474374633716304, 0.024085735897555131],\n",
       " ('TTM', 'CSA'): [0.16746856356216835, 0.019516709100881959],\n",
       " ('TTM', 'CSCO'): [0.15721790161359417, -0.00028307968026933527],\n",
       " ('TTM', 'AFG'): [0.017577099757124771, -0.00027689004008053884],\n",
       " ('TTM', 'CRL'): [0.045151713291455314, 0.0079649925088146282],\n",
       " ('TTM', 'RRR'): [0.20256056380369442, 0.034674727169554401],\n",
       " ('TTM', 'QDEL'): [0.022695644772541022, -0.017405080029679578],\n",
       " ('TTM', 'MSTR'): [0.073691444183809365, 0.0084289733826819705],\n",
       " ('TTM', 'PENN'): [0.042879396074228728, 0.025225894796715772],\n",
       " ('TTM', 'WETF'): [0.149097340736568, 0.014035927972643707],\n",
       " ('TTM', 'HTGC'): [0.13949015216577346, 0.010166214043977016],\n",
       " ('TTM', 'RTN'): [-0.014346070682676711, -0.0054067617074836502],\n",
       " ('TTM', 'GNTX'): [0.16189129109934133, 0.0071244372525449849],\n",
       " ('TTM', 'FL'): [0.065153295300279981, -0.0068980797594540193],\n",
       " ('TTM', 'MTG'): [0.14962262983200272, 0.017911804793831716],\n",
       " ('TTM', 'DOX'): [0.17602748881071556, 0.0073818436125320224],\n",
       " ('TTM', 'GRMN'): [0.074315263111743329, 0.0067727905313836609],\n",
       " ('TTM', 'DLR'): [0.13372013434485039, 0.01149280561563072],\n",
       " ('TTM', 'USFD'): [0.1789388399262381, 0.019592248697795543],\n",
       " ('TTM', 'BGS'): [-0.0048758935446719942, -0.0085671929652443232],\n",
       " ('TTM', 'UBSH'): [0.029106290956700365, 0.015756191534165253],\n",
       " ('TTM', 'GILD'): [0.024190652551064191, -0.0041982411118396089],\n",
       " ('TTM', 'SJI'): [-0.040322098852512325, 0.015547050213328513],\n",
       " ('TTM', 'COTY'): [0.017611689851419397, 0.01799659570995539],\n",
       " ('TTM', 'QTEC'): [0.2992896349722296, 0.030509755494596686],\n",
       " ('TTM', 'FANH'): [0.14191284932002635, 0.0077177968251715507],\n",
       " ('TTM', 'CAG'): [-0.0057437646213330754, 0.0012837562184800147],\n",
       " ('TTM', 'UE'): [0.085568003132073883, -0.0049533619135630402],\n",
       " ('TTM', 'TEGP'): [0.044418260087323302, 0.0082318575736204849],\n",
       " ('TTM', 'VZ'): [0.016431711277197419, -0.00053086928698422686],\n",
       " ('TTM', 'LILA'): [0.089244607158613709, 0.0063761892176137482],\n",
       " ('TTM', 'MDT'): [0.090095448266416453, 0.0084790430104252114],\n",
       " ('TTM', 'QCOM'): [0.12302608484310687, 0.02391983632095938],\n",
       " ('TTM', 'XNCR'): [-0.0045681555285441294, 0.01644119809457267],\n",
       " ('TTM', 'SWKS'): [0.25240777749603299, 0.030143268156079147],\n",
       " ('TTM', 'RXDX'): [-0.03460245525357853, 0.00014214607437784945],\n",
       " ('TTM', 'TCP'): [0.085103856026093966, 0.011077281307946586],\n",
       " ('TTM', 'PSMT'): [0.063144589677195953, -0.0073230939435144828],\n",
       " ('TTM', 'NSIT'): [0.037347604498499554, -0.0011791814686513938],\n",
       " ('TTM', 'NRG'): [0.12988505068899509, 0.012688189770303292],\n",
       " ('TTM', 'CSOD'): [0.0998360374645368, 0.023470904554710573],\n",
       " ('TTM', 'CHKP'): [0.12644369858057861, 0.011818978026530851],\n",
       " ('TTM', 'RYAAY'): [0.1106192315538595, 0.012484669906852349],\n",
       " ('TTM', 'RVNC'): [0.055312361887996084, 0.0051813752241852444],\n",
       " ('TTM', 'NEU'): [0.24690620094597532, 0.027409014862321401],\n",
       " ('TTM', 'NICE'): [0.20650601897614279, 0.01404398349996464],\n",
       " ('TTM', 'GBT'): [0.019713159442701338, 0.00484709487455474],\n",
       " ('TTM', 'PRFZ'): [0.22136306582639342, 0.015817656719196483],\n",
       " ('TTM', 'CF'): [0.17739466534985868, 0.019623429273685846],\n",
       " ('TTM', 'WAT'): [0.093742755949490039, -0.0022018992857165982],\n",
       " ('TTM', 'JPM'): [0.05852135506596759, 0.0089451471200433438],\n",
       " ('TTM', 'GRA'): [0.27515366703622141, 0.014244417562363542],\n",
       " ('TTM', 'ORI'): [0.12128806179539964, 0.010791544115349817],\n",
       " ('TTM', 'PJC'): [0.12253129992840488, 0.0034104780017507851],\n",
       " ('TTM', 'FORM'): [0.10791308506417635, 0.015928821052928133],\n",
       " ('TTM', 'NAVI'): [-0.017532009977858861, 0.0040275433644630177],\n",
       " ('TTM', 'SNY'): [0.11103149851505864, 0.0070650186003597282],\n",
       " ('TTM', 'UNP'): [0.069486028661721086, 0.002064070484351995],\n",
       " ('TTM', 'A'): [0.26642756685544866, 0.026945007187475452],\n",
       " ('TTM', 'BLK'): [0.1767889551047106, 0.022038541528842874],\n",
       " ('TTM', 'VCIT'): [0.057358422875468128, -0.0026265681911119272],\n",
       " ('TTM', 'SPR'): [0.089662714843712646, 0.0072524960236841577],\n",
       " ('TTM', 'UBS'): [0.13643767508304921, 0.021113625885500073],\n",
       " ('TTM', 'STRA'): [0.13077328331577157, 0.0001826757895946895],\n",
       " ('TTM', 'DEL'): [0.092103284161583227, 0.0013633246296331466],\n",
       " ('TTM', 'FEYE'): [0.1290055669265586, 0.0084972472420970484],\n",
       " ('TTM', 'BHGE'): [0.07566866505445656, 0.0073377036688912264],\n",
       " ('TTM', 'IPAR'): [-0.0060658279986573298, -0.0043457914948257887],\n",
       " ('TTM', 'ARNA'): [0.088208507531004648, 0.018457680438988305],\n",
       " ('TTM', 'MTL'): [0.15121858357606768, 0.020043050374705267],\n",
       " ('TTM', 'CSRA'): [0.053114871925613462, 0.0091329910823097615],\n",
       " ('TTM', 'URBN'): [0.10865735140320637, 0.0056478465032962057],\n",
       " ('TTM', 'EGP'): [0.13672297525426594, 0.00028722247615000816],\n",
       " ('TTM', 'PRTY'): [-0.022960045221833023, 0.0026618768233873688],\n",
       " ('TTM', 'ACH'): [0.16575181306961376, -0.00086164441657255982],\n",
       " ('TTM', 'PHI'): [0.17298306772805253, 0.024497318185887684],\n",
       " ('TTM', 'FIX'): [0.10378491556698294, -0.0039531373720330136],\n",
       " ('TTM', 'FNV'): [0.06504238377851039, 0.022920777858808517],\n",
       " ('TTM', 'TGH'): [0.073321115575724474, 0.023688366116801932],\n",
       " ('TTM', 'MTH'): [0.18945355959123758, 0.025879006462525941],\n",
       " ('TTM', 'PATK'): [0.096692956292474125, 0.0038179898992168663],\n",
       " ('TTM', 'CBI'): [0.16302048783982598, 0.014340653506141863],\n",
       " ('TTM', 'FI'): [0.060911503431176656, -0.0022675982967593667],\n",
       " ('TTM', 'IBA'): [0.13781526525446994, 0.011549217972513171],\n",
       " ('TTM', 'XT'): [0.3192853587262377, 0.039511120138096364],\n",
       " ('TTM', 'BMA'): [0.18515947007258504, 0.0059340996532482653],\n",
       " ('TTM', 'WES'): [0.11940004349304946, -0.0013808967523005558],\n",
       " ('TTM', 'GSH'): [0.041138531442835677, 0.0042188346260513491],\n",
       " ('TTM', 'KRO'): [0.17457924120823837, 0.0076369366631349996],\n",
       " ('TTM', 'NZF'): [0.16003678841186986, 0.006755206893383707],\n",
       " ('TTM', 'SAFM'): [-0.078655429187605486, 0.021339857787231614],\n",
       " ('TTM', 'HYH'): [0.051934722271777742, -0.0028121037534823224],\n",
       " ('TTM', 'APU'): [0.065954970289693327, 0.001335027745116919],\n",
       " ('TTM', 'ESRX'): [0.014914251504633463, 0.0088620954510777294],\n",
       " ('TTM', 'RLGY'): [0.041802840055816304, 0.012164518006220744],\n",
       " ('TTM', 'PFPT'): [0.11920059623868634, 0.019897093687478315],\n",
       " ('TTM', 'TAHO'): [0.09389984567841958, -0.010349187975351296],\n",
       " ('TTM', 'MAR'): [0.11173629449721958, 0.032246012460788918],\n",
       " ('TTM', 'XLRN'): [0.031631358827214677, 0.0081639684471163498],\n",
       " ('TTM', 'AGI'): [0.052335947431327766, 0.003879426607229999],\n",
       " ('TTM', 'CLF'): [0.12276823925242619, -0.0052905868936976158],\n",
       " ('TTM', 'FBK'): [0.039165478429371327, -0.0073698115708325136],\n",
       " ('TTM', 'ONB'): [0.055210718711241842, 0.0095223691345714522],\n",
       " ('TTM', 'NUVA'): [0.093566699384944621, 0.007674796889491086],\n",
       " ('TTM', 'GKOS'): [0.069373448119029943, 0.015336246445251172],\n",
       " ('TTM', 'THC'): [0.10014872537246421, 0.0083344550978977014],\n",
       " ('TTM', 'APTV'): [0.18596203917080645, 0.01129794210914121],\n",
       " ('TTM', 'UL'): [0.07512101095396978, 0.001902522171270207],\n",
       " ('TTM', 'SCCO'): [0.20116709533446073, 0.0091055727814585811],\n",
       " ('TTM', 'TERP'): [-0.016706307857041813, 0.015159573983816144],\n",
       " ('TTM', 'NXST'): [-0.00017899097896568241, 0.0048035489131771289],\n",
       " ('TTM', 'NUAN'): [0.16666428865649899, 0.0039537768983279164],\n",
       " ('TTM', 'EUFN'): [0.19251579620306009, 0.021783997754717548],\n",
       " ('TTM', 'HOLX'): [0.20681166787448732, 0.015307373866771208],\n",
       " ('TTM', 'ILG'): [0.044566992951420942, 0.014233169144240766],\n",
       " ('TTM', 'KBR'): [0.086160274382943075, 0.012255700084445017],\n",
       " ('TTM', 'LTM'): [0.19033333996792351, 0.0026610271116899432],\n",
       " ('TTM', 'CVE'): [0.081937355169781331, 0.0021525609634272178],\n",
       " ('TTM', 'POWI'): [0.16725560191312439, 0.0031745932407130232],\n",
       " ('TTM', 'SHOP'): [0.1880541024282171, 0.029079712216674564],\n",
       " ('TTM', 'JCOM'): [0.12570914497670835, 0.0089683203072206466],\n",
       " ('TTM', 'DOOR'): [0.16744140685803469, 0.012436721604540195],\n",
       " ('TTM', 'GPOR'): [0.0037236324130684919, 0.00097512491502019173],\n",
       " ('TTM', 'AMSF'): [0.047093187576972201, -0.0044273231925110899],\n",
       " ('TTM', 'GS'): [0.086566191757922753, 0.0041020926079649543],\n",
       " ('TTM', 'PTCT'): [-0.047969826554474029, 0.0016464113531921406],\n",
       " ('TTM', 'UTHR'): [0.10118432039566982, 0.0057940473471012567],\n",
       " ('TTM', 'TLT'): [-0.017166874112304786, 0.004185322637912864],\n",
       " ('TTM', 'AIT'): [0.12644729804202334, -0.0021700700497412997],\n",
       " ('TTM', 'CIT'): [0.079098045287303728, 0.005502839784838981],\n",
       " ('TTM', 'NMRD'): [-0.12590677499881539, 0.005731647433142392],\n",
       " ('TTM', 'CMD'): [0.076841919168820411, -0.0035453247356184133],\n",
       " ('TTM', 'DNKN'): [0.028850184865310408, -0.0095620870787936196],\n",
       " ('TTM', 'SCHL'): [0.043471153892428116, 0.00018832518714191146],\n",
       " ('TTM', 'ULTI'): [0.12947838671349596, 0.0013113451857286354],\n",
       " ('TTM', 'BOH'): [0.10632448301213938, 0.011535151191967269],\n",
       " ('TTM', 'SMTC'): [0.14008358693510151, 0.0057866989254047379],\n",
       " ('TTM', 'DVY'): [0.18175266730010958, 0.012152443720381354],\n",
       " ('TTM', 'MWA'): [0.12705559922120413, 0.0018046418583282956],\n",
       " ('TTM', 'EBAY'): [0.20133001123530778, 0.025715861330845829],\n",
       " ('TTM', 'TUP'): [0.17000224124932875, 5.3735383208376218e-05],\n",
       " ('TTM', 'USM'): [0.12889479588281277, 3.1479412038088817e-05],\n",
       " ('TTM', 'BIG'): [0.027627344830892315, 0.0091381676699985731],\n",
       " ('TTM', 'PLYA'): [0.10434512339219902, 0.006703755477399197],\n",
       " ('TTM', 'CACC'): [0.077571062211695907, -0.0035012597820464654],\n",
       " ('TTM', 'ICPT'): [-0.019865047303477552, -0.011257961001833603],\n",
       " ('TTM', 'RJF'): [0.14461317063992399, 0.017167840624148483],\n",
       " ('TTM', 'LNT'): [0.058326568393244675, -9.2315990923871888e-05],\n",
       " ('TTM', 'OSTK'): [0.012949592329003761, 0.0049322713870552561],\n",
       " ('TTM', 'VGSH'): [-0.018736396678282127, 0.020599868025399298],\n",
       " ('TTM', 'NGHC'): [0.1113781223633985, 0.013596098250302368],\n",
       " ('TTM', 'AGNC'): [0.1512490117216958, 0.011014641000031175],\n",
       " ('TTM', 'NE'): [0.059833724126851895, 0.0078318404119434668],\n",
       " ('TTM', 'OXM'): [0.013728615825170832, 0.0033931327963917326],\n",
       " ('TTM', 'XL'): [0.058787061840238082, 0.017497651273335434],\n",
       " ('TTM', 'IPCC'): [-0.034668981556994473, 0.0048317910338818654],\n",
       " ('TTM', 'AXE'): [0.098071580451572118, 0.011602002328963509],\n",
       " ('TTM', 'AMZN'): [0.2188844054354333, 0.021780185204561636],\n",
       " ('TTM', 'VXUS'): [0.378039201284674, 0.052772107198123544],\n",
       " ('TTM', 'SIMO'): [0.085140471704039905, 0.010076211116588784],\n",
       " ('TTM', 'OIS'): [0.10514463472515158, 0.005601756282371936],\n",
       " ('TTM', 'L'): [0.17783436034446523, 0.0028821717305850744],\n",
       " ('TTM', 'WWW'): [0.11944940082276768, 0.012606655431321102],\n",
       " ('TTM', 'EQGP'): [0.089637397918039222, 0.014827274633071303],\n",
       " ('TTM', 'KW'): [0.064748699837766377, 0.012833886315869477],\n",
       " ('TTM', 'SAP'): [0.21862422226527337, 0.013599255072861654],\n",
       " ('TTM', 'SYX'): [0.043349970995921423, 0.013777328458875835],\n",
       " ('TTM', 'KMT'): [0.18426201867403974, 0.011118878260987173],\n",
       " ('TTM', 'Y'): [0.097585215802168598, -0.0079844504677321539],\n",
       " ('TTM', 'TQQQ'): [0.30545400292789232, 0.038451634299641907],\n",
       " ('TTM', 'WDFC'): [-0.022719396132785809, 0.011505796931363263],\n",
       " ('TTM', 'MDP'): [-0.049505067677881355, 0.00170555271732315],\n",
       " ('TTM', 'CABO'): [0.16010608615420829, -0.0026431542938446404],\n",
       " ('TTM', 'FOLD'): [0.10471355843088978, 0.010031446888328972],\n",
       " ('TTM', 'POST'): [0.11232442317651194, -0.002262033831083358],\n",
       " ('TTM', 'SPH'): [0.027571561629823171, 0.0056692606845039281],\n",
       " ('TTM', 'CNA'): [0.1199833905187007, 0.013234801020085117],\n",
       " ('TTM', 'ABT'): [0.13063759900195929, 0.019764694528795396],\n",
       " ('TTM', 'MAS'): [0.24944255048757336, 0.01825514955410679],\n",
       " ('TTM', 'UDR'): [-0.0045938574391802484, -0.000214354962640475],\n",
       " ('TTM', 'ACIW'): [0.15348109010399316, 0.0081602457936321444],\n",
       " ('TTM', 'POOL'): [0.13159981346377866, 0.013059984334283473],\n",
       " ('TTM', 'TU'): [0.19866907941044243, 0.015313820762766585],\n",
       " ('TTM', 'TNC'): [0.19284814052147284, 0.016087962561869684],\n",
       " ('TTM', 'HPQ'): [0.18440505701318771, 0.023832611594261935],\n",
       " ('TTM', 'AHL'): [0.085962455254288861, -0.00046529912608264429],\n",
       " ('TTM', 'DGRW'): [0.20968163309124571, 0.012607998290319227],\n",
       " ('TTM', 'FBR'): [0.065652970085245815, -0.0038242710963453997],\n",
       " ('TTM', 'QUAD'): [0.12652668705193529, -0.00046797718054637734],\n",
       " ('TTM', 'TSEM'): [0.19355282533892224, 0.041933595251940695],\n",
       " ('TTM', 'BID'): [0.10463112545844418, 0.025760486783644173],\n",
       " ('TTM', 'FII'): [0.12688683169911785, 0.0093731169155043346],\n",
       " ('TTM', 'FELE'): [0.13242325398193613, -0.00073456533540287438],\n",
       " ('TTM', 'G'): [0.13789403745473763, -0.0047974713714958915],\n",
       " ('TTM', 'SFLY'): [0.046482793239943129, -0.0014226035073828796],\n",
       " ('TTM', 'AVAV'): [0.000241549808737496, 0.0047090410272243579],\n",
       " ('TTM', 'EMB'): [0.18299251248571816, 0.00010257924314332293],\n",
       " ('TTM', 'ALK'): [0.15442117871039596, 0.019734926390209986],\n",
       " ('TTM', 'RELX'): [0.1258630826008002, 0.012547521330555433],\n",
       " ('TTM', 'MCK'): [0.011261507523188479, 0.033728091812736734],\n",
       " ('TTM', 'MFA'): [0.12347970258076908, -0.0019536173783334604],\n",
       " ('TTM', 'BWP'): [0.14079701435275743, 0.0073045353731981824],\n",
       " ('TTM', 'PRI'): [0.035890721422001406, 0.027397583104791276],\n",
       " ('TTM', 'NKE'): [0.13317871068975862, -0.0037471094593234328],\n",
       " ('TTM', 'ALG'): [0.12729449039656426, 0.0081848747040480837],\n",
       " ('TTM', 'MGP'): [0.016468074217482479, 0.0038132585011956114],\n",
       " ('TTM', 'CRM'): [0.23647171894317467, 0.022576985614650602],\n",
       " ('TTM', 'TELL'): [0.011258610923781352, -0.017757305748024362],\n",
       " ('TTM', 'DRI'): [0.027475644033647349, 0.0089634545385003372],\n",
       " ('TTM', 'KR'): [0.0026572534088351442, -0.0018861257629329083],\n",
       " ('TTM', 'AME'): [0.18592374210841819, -0.0057884387045824192],\n",
       " ('TTM', 'ELLI'): [0.2080235960409946, 0.021560011657638364],\n",
       " ('TTM', 'VRSN'): [0.14878060321874662, 0.038035853168803965],\n",
       " ('TTM', 'FDS'): [0.080952555461720185, 0.0067202341468497505],\n",
       " ('TTM', 'NWLI'): [0.11860641437328502, 9.2476207311168896e-05],\n",
       " ('TTM', 'IONS'): [0.027140622816654806, 0.024133998084217779],\n",
       " ('TTM', 'SITE'): [0.099817423660889221, 0.016749360484025769],\n",
       " ('TTM', 'W'): [0.14149656164628621, 0.0037641882277359871],\n",
       " ('TTM', 'ADSK'): [0.20269082986444489, -0.001090757087631628],\n",
       " ('TTM', 'MINI'): [0.058090656744188229, 0.0036480938703579392],\n",
       " ('TTM', 'FAST'): [0.089715580489949986, -0.0072395344456904842],\n",
       " ('TTM', 'TDOC'): [0.13207055696946846, 0.014011117850634015],\n",
       " ('TTM', 'GLW'): [0.18650660705025124, 0.030363920339449121],\n",
       " ('TTM', 'CAT'): [0.15114262143115342, 0.0051279076096876781],\n",
       " ('TTM', 'HDB'): [0.26282721410190241, 0.038770842670555812],\n",
       " ('TTM', 'ADBE'): [0.18442980538145931, 0.014130923534696523],\n",
       " ('TTM', 'AGO'): [0.093021976065110409, 0.010445020094080231],\n",
       " ('TTM', 'RY'): [0.20259307792268105, 0.022841299813957813],\n",
       " ('TTM', 'P'): [-0.0037164004205629585, 0.020972089046395911],\n",
       " ('TTM', 'IAC'): [0.1787717947888495, 0.020614880697645003],\n",
       " ('TTM', 'FLO'): [0.10570544290056076, 0.020530232785870003],\n",
       " ('TTM', 'LPT'): [0.14702178430642429, 0.00067296515166955818],\n",
       " ('TTM', 'HTLD'): [0.071955104301833203, 0.015990445765445747],\n",
       " ('TTM', 'TXMD'): [0.036252084551538062, 0.00016854940204008586],\n",
       " ('TTM', 'UFPI'): [0.14673480448317205, 0.011010716942286893],\n",
       " ('TTM', 'HDP'): [0.071160439257978658, 0.0046169278385619662],\n",
       " ('TTM', 'NFJ'): [0.21421172447482043, 0.020897130667172463],\n",
       " ('TTM', 'IMMU'): [0.0059595836125649303, 0.0086163678792589831],\n",
       " ('TTM', 'ISRG'): [0.095069062518665232, -0.007425692452767277],\n",
       " ('TTM', 'CLS'): [0.17914229343467397, 0.015313650811930639],\n",
       " ('TTM', 'OGE'): [0.073498570301166077, 0.00010604448239290224],\n",
       " ('TTM', 'TOL'): [0.17544941239831049, 0.0050281734203841974],\n",
       " ('TTM', 'LADR'): [0.0028335595661647993, 0.002420092989351657],\n",
       " ('TTM', 'VONG'): [0.30667984881349103, 0.039136609462042157],\n",
       " ('TTM', 'RWT'): [0.090488878303444181, 0.01148189044160472],\n",
       " ('TTM', 'RGLD'): [0.12428432047323699, 0.0077620631313185771],\n",
       " ('TTM', 'TER'): [0.22689116141837434, 0.030648998043081049],\n",
       " ('TTM', 'ICUI'): [0.12245828024689448, 0.012181695442484685],\n",
       " ('TTM', 'PGR'): [0.10839652713277946, 0.00076140182464489315],\n",
       " ('TTM', 'GIL'): [0.08543012604430511, 0.011820714961892662],\n",
       " ('TTM', 'TS'): [0.13145477339027581, 0.0014421785343692746],\n",
       " ('TTM', 'EXR'): [0.12273966024081252, 0.019690136978908635],\n",
       " ('TTM', 'HASI'): [0.14302545511407339, -0.002223604413768572],\n",
       " ('TTM', 'BLDR'): [0.19077424349539146, 0.0052108616520481288],\n",
       " ('TTM', 'HOMB'): [0.10930957283775988, 0.014461607605860145],\n",
       " ('TTM', 'BMS'): [0.070021943526036939, 0.0096993542002939397],\n",
       " ('TTM', 'PCRX'): [0.093977728878796574, 0.002941016887259445],\n",
       " ('TTM', 'NCS'): [0.14785338538871443, -0.0010414576860963663],\n",
       " ('TTM', 'WU'): [0.045699387789488226, -0.0049376595849980019],\n",
       " ('TTM', 'SKYW'): [0.050091352899239869, 0.0046647996902008295],\n",
       " ('TTM', 'LCII'): [0.10206306651746669, 0.0063732298103491248],\n",
       " ('TTM', 'BIO'): [0.083530303888160337, 0.019172178692636283],\n",
       " ('TTM', 'EXPE'): [0.097942387631894612, 0.0097381694574391556],\n",
       " ('TTM', 'WTR'): [0.096744528515693887, -0.0025070439964451348],\n",
       " ('TTM', 'HALO'): [0.096258263957911955, 0.0062362431437111192],\n",
       " ('TTM', 'AET'): [-0.0097599518857680624, 0.017072717465974777],\n",
       " ('TTM', 'SRPT'): [0.11244676858244831, -0.0035917618893722288],\n",
       " ('TTM', 'MEOH'): [0.24644698604903847, 0.015610968843133266],\n",
       " ('TTM', 'ARES'): [0.046770432049757595, 0.028729819212912688],\n",
       " ('TTM', 'INTU'): [0.097824745278803776, 0.0039628200444842103],\n",
       " ('TTM', 'EDN'): [0.16184670735837017, 0.010616297936882509],\n",
       " ('TTM', 'TSCO'): [0.024316685868728503, 0.0065626251722041926],\n",
       " ('TTM', 'SQM'): [0.25958609315873543, 0.029984844902617516],\n",
       " ('TTM', 'DO'): [0.090303172433740503, 0.012473852127360241],\n",
       " ('TTM', 'MOH'): [-0.0083257013698398493, -0.0084538921520077737],\n",
       " ('TTM', 'TROX'): [0.24563184854905437, 0.01315882757318379],\n",
       " ('TTM', 'EXPO'): [0.12071740031521713, 4.0466234364756831e-05],\n",
       " ('TTM', 'DAN'): [0.22658506035833553, 0.017186830355284319],\n",
       " ('TTM', 'STT'): [0.091345500773509031, 0.019895444288746081],\n",
       " ('TTM', 'MAC'): [-0.011953794858221067, 0.014938423236740097],\n",
       " ('TTM', 'WRI'): [-0.0090832587070987618, -0.0010130836813894495],\n",
       " ('TTM', 'TTWO'): [0.14774697535220463, 0.029648704941057907],\n",
       " ('TTM', 'SEMG'): [0.13881900831125096, -0.0012565978927178282],\n",
       " ('TTM', 'MDRX'): [0.097850498018531448, 0.0088550449018302575],\n",
       " ('TTM', 'INSM'): [0.02484019488219457, 0.0032993627673499871],\n",
       " ('TTM', 'WDAY'): [0.22100219716269848, 0.027966248846722667],\n",
       " ('TTM', 'MKTX'): [0.094457563024213431, 0.0063553957597489302],\n",
       " ('TTM', 'TEP'): [0.10449452814778651, 0.0077352422924896296],\n",
       " ('TTM', 'LAMR'): [0.052935503432672747, 0.012366749384905345],\n",
       " ('TTM', 'EQIX'): [0.15820001392598962, 0.021295415205248185],\n",
       " ('TTM', 'AMC'): [0.10888440118309822, 0.0060960932451456906],\n",
       " ('TTM', 'BGC'): [0.12086980235425038, 0.0051165885249103782],\n",
       " ('TTM', 'HMSY'): [0.077909136045888977, 0.0087711764262324021],\n",
       " ('TTM', 'NSC'): [0.11648922207523156, 0.0095729806124581502],\n",
       " ('TTM', 'DEO'): [0.22061552114769939, 0.014928732077411518],\n",
       " ('TTM', 'GIB'): [0.20119093190360171, 0.02003268068426706],\n",
       " ('TTM', 'WEB'): [0.13133541184671149, 0.0012992445112669612],\n",
       " ('TTM', 'B'): [0.12541047047262818, 0.0022077846962407282],\n",
       " ('TTM', 'WBS'): [0.055240822297116264, 0.015004141537249677],\n",
       " ('TTM', 'BTT'): [0.15347171417517511, 0.0031238088179233675],\n",
       " ('TTM', 'EXLS'): [0.064517642533422487, 0.0069842740545241885],\n",
       " ('TTM', 'FIVE'): [0.0096970476311224931, 0.0030713088882611053],\n",
       " ('TTM', 'RPM'): [0.23116671030527253, 0.028076680855083854],\n",
       " ('TTM', 'JAZZ'): [0.13934521894248156, 0.0018765208606435339],\n",
       " ('TTM', 'TDG'): [0.19575258029591719, 0.024213243008799696],\n",
       " ('TTM', 'ENIC'): [0.090710136388596888, 0.0093866893625149089],\n",
       " ('TTM', 'ETSY'): [0.10626462675648564, 0.0050675257963505652],\n",
       " ('TTM', 'ESRT'): [0.063045350370446576, 0.0092209189448010948],\n",
       " ('TTM', 'MMC'): [0.070745957877625887, 0.0058239377125504314],\n",
       " ('TTM', 'ELY'): [0.21702333014200723, 0.0075554813799054103],\n",
       " ('TTM', 'BANR'): [0.099459732220260749, -0.0056782703985435645],\n",
       " ('TTM', 'AMGN'): [0.11951944735242948, 0.0062711146281239794],\n",
       " ('TTM', 'TREX'): [0.10254986977704864, 0.022648241051381929],\n",
       " ('TTM', 'TCF'): [0.06975702681499471, 0.036991791939313894],\n",
       " ('TTM', 'DORM'): [-0.0033546171503442304, -0.0068389723322012669],\n",
       " ('TTM', 'CAH'): [0.068111909585644809, -0.0020612736123047362],\n",
       " ('TTM', 'PNW'): [0.067611719775510504, 0.0097321867273022014],\n",
       " ('TTM', 'BLMN'): [0.068989104001469584, -0.014108406628280404],\n",
       " ('TTM', 'SXT'): [0.11150360303370191, 0.0096371651991697949],\n",
       " ('TTM', 'NBL'): [0.14139045285317006, -0.0030514085566876298],\n",
       " ('TTM', 'AXTA'): [0.16572773174391381, 0.0095296608692554876],\n",
       " ('TTM', 'EGBN'): [0.08467789125807168, -0.0043191727593828617],\n",
       " ('TTM', 'EQC'): [0.19253797702205586, 0.0045719316386633015],\n",
       " ('TTM', 'SBH'): [0.076246487694306891, 0.0093742343537204283],\n",
       " ('TTM', 'TGP'): [0.088098173803741561, -0.0048386315245515154],\n",
       " ('TTM', 'SFBS'): [0.091165031095638976, -0.0079241162157071988],\n",
       " ('TTM', 'GWRE'): [0.19160340916110888, 0.023649423847385054],\n",
       " ('TTM', 'APPF'): [0.082321502423525747, 0.027583533446402016],\n",
       " ('TTM', 'ALDW'): [0.110540875962752, 0.017327357034736805],\n",
       " ('TTM', 'MCRN'): [0.24857816161226026, 0.010051023469628849],\n",
       " ('TTM', 'WVE'): [0.048866834153417457, 0.0066993658799661899],\n",
       " ('TTM', 'APA'): [0.15500874218036759, 0.011512202870058198],\n",
       " ('TTM', 'SRCL'): [0.15360416010330283, -0.0011891432805478976],\n",
       " ('TTM', 'ITGR'): [0.1575244162569594, 0.013562459638631957],\n",
       " ('TTM', 'LXFT'): [0.1053873120555336, 0.0088472448460168319],\n",
       " ('TTM', 'AMBA'): [0.071865342082332834, 0.019585516540717218],\n",
       " ('TTM', 'KELYA'): [0.066838887588891643, 0.028724633246901513],\n",
       " ('TTM', 'ETE'): [-0.015320812590293159, 0.018284884348032951],\n",
       " ('TTM', 'HMN'): [0.050091660316664663, 0.012571939235529616],\n",
       " ('TTM', 'GE'): [0.10988022406824294, 0.017495397753700289],\n",
       " ('TTM', 'KNSL'): [0.020844821382896964, 0.0064187822907568514],\n",
       " ('TTM', 'PTEN'): [0.11171678396726233, 0.013677846302966505],\n",
       " ('TTM', 'TNH'): [0.19249617878944608, 0.015588104894797346],\n",
       " ('TTM', 'BLD'): [0.10647994423624878, -0.0015583747732151598],\n",
       " ('TTM', 'CREE'): [0.12054536497511706, 0.00010213221428064114],\n",
       " ('TTM', 'MSG'): [0.083722872795025854, 0.010258064905192717],\n",
       " ('TTM', 'HAWK'): [-0.028593935492003088, 0.0024892705371590386],\n",
       " ('TTM', 'CNC'): [0.087256057684883162, 0.0082779547864229811],\n",
       " ('TTM', 'WB'): [0.19444240624840375, 0.026507815476795198],\n",
       " ('TTM', 'TRCO'): [-0.067150462300387362, 0.016479934724888082],\n",
       " ('TTM', 'CSTM'): [0.1304539373008739, 0.0097426723149054185],\n",
       " ('TTM', 'NOAH'): [0.19561777973216374, 0.0139436770046855],\n",
       " ('TTM', 'IBP'): [0.087748728140297994, -0.0027180222718864162],\n",
       " ('TTM', 'AAN'): [0.069944633255575275, 0.007747713200974022],\n",
       " ('TTM', 'VLP'): [0.128379045365729, 0.014018166126642081],\n",
       " ('TTM', 'ETFC'): [0.081497217703789482, -0.0020901748391126854],\n",
       " ('TTM', 'ROCK'): [0.18924097009252142, 0.00018776325911644211],\n",
       " ('TTM', 'SXI'): [0.057121286387122085, 0.0020278383133987385],\n",
       " ('TTM', 'FLIR'): [0.16161339651635229, 0.013678205251716355],\n",
       " ('TTM', 'CCL'): [0.15038950878843635, 0.0057448010568565281],\n",
       " ('TTM', 'TRV'): [-0.049220231760649123, -0.0039523975856654535],\n",
       " ('TTM', 'AMH'): [0.04293708786401057, -0.0022376605228658026],\n",
       " ('TTM', 'SC'): [0.049880808054884457, 0.0098005119836311674],\n",
       " ('TTM', 'TSU'): [0.18794354746039418, 0.017195640935596359],\n",
       " ('TTM', 'SLB'): [0.16823531389188912, 0.016065745949326898],\n",
       " ('TTM', 'NLY'): [0.097900756618508472, 0.020206932800610998],\n",
       " ('TTM', 'KEY'): [0.081299945782344479, 0.0098434267594676855],\n",
       " ('TTM', 'HCP'): [0.041209466001035422, 0.0031172289138185799],\n",
       " ('TTM', 'EIX'): [0.048052304321609354, -0.0052671521016384049],\n",
       " ('TTM', 'DAL'): [0.17870431827911079, 0.00067933054100791719],\n",
       " ('TTM', 'ULTA'): [0.080653246719868052, -0.0061169141651391127],\n",
       " ('TTM', 'UNM'): [0.11769910466728371, 0.014172176698597513],\n",
       " ('TTM', 'GTN'): [-0.036871026124451964, 0.0030597410088182668],\n",
       " ('TTM', 'MMYT'): [0.15410068434706706, 0.012528071994675016],\n",
       " ('TTM', 'ZTS'): [0.1390411387850097, 0.035757193496239251],\n",
       " ('TTM', 'UGI'): [0.09291889358985024, 0.0035490414672765319],\n",
       " ('TTM', 'ERIC'): [0.16622431874627744, 0.0091086703630785283],\n",
       " ('TTM', 'AMD'): [0.1749317320636018, 0.0068065153174649813],\n",
       " ('TTM', 'RYN'): [0.16408944809749801, 0.018403925408550851],\n",
       " ('TTM', 'IVR'): [0.14832275905475018, -0.0016889762299796523],\n",
       " ('TTM', 'NS'): [0.095254975877925654, -0.0077525152353581503],\n",
       " ('TTM', 'CZR'): [0.063592617690356804, 0.0011587428988181834],\n",
       " ('TTM', 'TWNK'): [0.1205449216254203, 0.025447986112057133],\n",
       " ('TTM', 'BXMT'): [0.16428251171623354, 0.01157545460980502],\n",
       " ('TTM', 'DLX'): [0.13764053782502003, 0.01599700238817681],\n",
       " ('TTM', 'MTDR'): [0.091769209839457216, -0.016072447434131994],\n",
       " ('TTM', 'ADS'): [0.19073083197575991, 0.011162584788115585],\n",
       " ('TTM', 'NYLD'): [0.089033783902752281, 0.0082406989989246941],\n",
       " ('TTM', 'ADSW'): [0.087120147100869988, -0.00032629363398974158],\n",
       " ('TTM', 'NAV'): [0.12539135517160402, -0.0018748764150597792],\n",
       " ('TTM', 'CVX'): [0.13106371179299128, -0.0049957823810708856],\n",
       " ('TTM', 'QLYS'): [0.18642487493499693, 0.0097590554831069459],\n",
       " ('TTM', 'RH'): [-0.038019817744271725, -0.0098978033230747182],\n",
       " ('TTM', 'EFX'): [0.094796096947868003, -0.0071226650486158668],\n",
       " ('TTM', 'ZTO'): [0.14893005212556645, 0.002480538402718716],\n",
       " ('TTM', 'OUT'): [0.10364035227098618, 0.016229300349568584],\n",
       " ('TTM', 'PODD'): [0.15031631629061162, 0.0077858081227289346],\n",
       " ('TTM', 'AGN'): [0.12759157425999842, 0.036611354906317832],\n",
       " ('TTM', 'BRC'): [0.11088075735041179, 0.002034993221700792],\n",
       " ('TTM', 'CDEV'): [0.051605919685645249, -0.0065911699621166173],\n",
       " ('TTM', 'CIU'): [0.047990509263349607, 0.0016471353561206235],\n",
       " ('TTM', 'ARNC'): [0.1993315889238173, 0.0151350265574398],\n",
       " ('TTM', 'ONCE'): [0.059265014383950411, 0.0072174808331900413],\n",
       " ('TTM', 'AIV'): [0.055452158331733531, 4.5680657104946874e-05],\n",
       " ('TTM', 'LOXO'): [0.039406076769966984, 0.014613439512145106],\n",
       " ('TTM', 'GWB'): [0.10799980173987928, 0.016590875013706163],\n",
       " ('TTM', 'ELP'): [0.26273125355074789, 0.021692257224605903],\n",
       " ('TTM', 'HCSG'): [0.12994590663421579, -0.0048375453164314847],\n",
       " ('TTM', 'FOX'): [0.08031142692056753, 0.012447626537878143],\n",
       " ('TTM', 'GLPG'): [0.055315297390331024, 0.013962455190319864],\n",
       " ('TTM', 'EW'): [0.1868000088373423, 0.0090766886331999971],\n",
       " ('TTM', 'LGIH'): [0.143471958712278, 0.0071598276488685324],\n",
       " ('TTM', 'ASND'): [-0.039360171919629261, 0.003616907775164659],\n",
       " ('TTM', 'FBC'): [0.12956113269376421, 0.012317001247918662],\n",
       " ('TTM', 'SNI'): [0.028195945431885791, 0.0017305557383528721],\n",
       " ('TTM', 'LVNTA'): [0.15976961296248601, 0.03487829658400874],\n",
       " ('TTM', 'FBHS'): [0.15689137340045514, 0.008319323560670425],\n",
       " ('TTM', 'GMS'): [0.15033546956738553, -0.0021156415122808854],\n",
       " ('TTM', 'MRTN'): [0.087961966968004637, 0.031676919251723827],\n",
       " ('TTM', 'CCC'): [0.095413724102328679, 0.0041405812938146384],\n",
       " ('TTM', 'DK'): [0.15787413506141948, 0.0045126030530578103],\n",
       " ('TTM', 'PBR'): [0.19270084980751775, 0.019403417829292224],\n",
       " ('TTM', 'WEC'): [0.0738769169012225, 0.0010221982626647795],\n",
       " ('TTM', 'EPR'): [0.12012851187195171, 0.0027380390634160223],\n",
       " ('TTM', 'WLK'): [0.21534724366930391, 0.026143300992718187],\n",
       " ('TTM', 'SBGI'): [-0.00059566951450418443, 0.019718877006142391],\n",
       " ('TTM', 'CI'): [0.046491190472342361, 0.0063182136400396893],\n",
       " ('TTM', 'DOC'): [0.11716306762441275, 0.006398864114451704],\n",
       " ('TTM', 'SWX'): [0.099137882386767656, 0.0043170605190141183],\n",
       " ('TTM', 'AAXJ'): [0.41575298857634629, 0.054036439784068309],\n",
       " ('TTM', 'VCLT'): [0.056243116827856231, -0.0018860272835607979],\n",
       " ('TTM', 'HUM'): [-0.069720440267815903, 0.011429708561789565],\n",
       " ('TTM', 'CE'): [0.2049618794821895, 0.011597782762909669],\n",
       " ('TTM', 'HYT'): [0.20989965851449865, 0.037032702804876777],\n",
       " ('TTM', 'AXL'): [0.11363194166066837, 0.0086491593062851084],\n",
       " ('TTM', 'TRMB'): [0.17860123017315385, 0.018841075941901032],\n",
       " ('TTM', 'GOV'): [0.14249597583270651, 0.016104366822673445],\n",
       " ('TTM', 'SMI'): [0.17748680796479099, 0.032926099766820746],\n",
       " ('TTM', 'KTOS'): [-0.024980240097899571, 0.021428206884160216],\n",
       " ('TTM', 'ECPG'): [0.082131109870912683, 0.0033018798363140946],\n",
       " ('TTM', 'RQI'): [0.30147640697948896, 0.025163135980969701],\n",
       " ('TTM', 'WAL'): [0.10187522277825774, 0.027211500767656285],\n",
       " ('TTM', 'ACWX'): [0.35867907207164756, 0.063498504178178927],\n",
       " ('TTM', 'ACN'): [0.10428533864415554, 0.017102761716737087],\n",
       " ('TTM', 'AAT'): [0.063706531467092986, 0.016035185328230825],\n",
       " ('TTM', 'KGC'): [0.003546227893782982, -0.0036281902080856016],\n",
       " ('TTM', 'AXDX'): [0.1085264275694437, 0.0013507644206191907],\n",
       " ('TTM', 'M'): [0.0054348085643016299, 0.0078692398124799688],\n",
       " ('TTM', 'PAM'): [0.22629415540135334, 0.0064498710618545677],\n",
       " ('TTM', 'HCN'): [0.057352326895876028, 0.0055674437324590258],\n",
       " ('TTM', 'CVGW'): [0.039836891673155683, 0.0086318642927827455],\n",
       " ('TTM', 'WWD'): [0.10236799086215419, 0.011398005790913717],\n",
       " ('TTM', 'CPK'): [0.055604366988943027, -0.0031229333163058635],\n",
       " ('TTM', 'MTB'): [0.11443200997524759, -0.00026189694794808907],\n",
       " ('TTM', 'DXC'): [0.085277581633487989, 0.017183381114249469],\n",
       " ('TTM', 'LB'): [0.071757538283724248, -0.0091744046224015684],\n",
       " ('TTM', 'NKTR'): [0.063037297599039657, -0.0071079496309806945],\n",
       " ('TTM', 'PNR'): [0.17052246287870676, 0.02006494700912511],\n",
       " ('TTM', 'COLM'): [0.084872110477692372, -0.0032269768094123383],\n",
       " ('TTM', 'TPR'): [0.086144299801814081, -0.0018515035731130401],\n",
       " ('TTM', 'VMBS'): [0.0028069834772088721, 0.00093094572681830245],\n",
       " ('TTM', 'DNB'): [0.059150569415256316, 0.006330957100646995],\n",
       " ('TTM', 'TBI'): [0.075771720203583137, 0.0063169797598321429],\n",
       " ('TTM', 'BRKR'): [0.17110042507680118, 0.0063482442764586011],\n",
       " ('TTM', 'WSBC'): [0.088367880382785341, -0.0048460753620200693],\n",
       " ('TTM', 'ODFL'): [0.13206901661500353, 0.002265342710544749],\n",
       " ('TTM', 'WAB'): [0.099830084022196577, 0.0052788860495833999],\n",
       " ('TTM', 'PTY'): [0.24416620649265802, 0.037209895323012741],\n",
       " ('TTM', 'DE'): [0.14289026736441207, 0.012948383144387322],\n",
       " ('TTM', 'MD'): [0.10713112593942277, -0.0090032903715120266],\n",
       " ('TTM', 'WP'): [0.0043808059039401378, -0.0037326070806011067],\n",
       " ('TTM', 'TV'): [0.11594029267049583, 0.018160976750527514],\n",
       " ('TTM', 'MDC'): [0.18746615238100839, 0.032367864253636566],\n",
       " ('TTM', 'HHC'): [0.062001974886395445, 0.0051299683190113915],\n",
       " ('TTM', 'ACXM'): [0.24031714890024944, 0.018772958632020699],\n",
       " ('TTM', 'HOG'): [0.11549588278864069, -0.0065784327893442509],\n",
       " ('TTM', 'TWO'): [0.17013562163617038, 0.0059925666968315546],\n",
       " ('TTM', 'YPF'): [0.1735402384320677, -0.0034223327138599722],\n",
       " ('TTM', 'VONV'): [0.22956918624291781, 0.0042283604594778659],\n",
       " ('TTM', 'NVDA'): [0.10780077417045794, 0.021940077515671057],\n",
       " ('TTM', 'UMBF'): [0.031929511764938648, 0.0034314072486248621],\n",
       " ('TTM', 'CUBE'): [0.13740008403825349, -0.0014027457093480366],\n",
       " ('TTM', 'LLL'): [-0.020877419887045411, -0.0051254662384598998],\n",
       " ('TTM', 'HTA'): [0.12927187778485508, 0.012239759958183164],\n",
       " ('TTM', 'ENLK'): [0.11831270912531874, 0.0030496376391122896],\n",
       " ('TTM', 'ACCO'): [0.11580599458220002, -0.00018044776569668837],\n",
       " ('TTM', 'SRCE'): [0.046539921259483953, 0.0151172814451966],\n",
       " ('TTM', 'BLL'): [0.13863168553444277, 0.006644558069029389],\n",
       " ('TTM', 'TXT'): [0.11040442712602135, -0.013581102877459453],\n",
       " ('TTM', 'IBN'): [0.25352256972747855, 0.028305411804571575],\n",
       " ('TTM', 'GNRC'): [0.20752482493961924, 0.010777948645995442],\n",
       " ('TTM', 'FMBI'): [0.063540719583659144, 0.0038897669521988807],\n",
       " ('TTM', 'LMT'): [-0.057669287488648274, 0.018027085438265675],\n",
       " ('TTM', 'TILE'): [0.14217289813096642, 0.016111401583176178],\n",
       " ('TTM', 'ANAT'): [0.16217939690572611, 0.014217368099289043],\n",
       " ('TTM', 'JHX'): [0.15871973127860931, 0.014558460446203585],\n",
       " ('TTM', 'XRAY'): [0.13116162402154516, 0.0014738672748902035],\n",
       " ('TTM', 'INGR'): [0.11669956288909575, 0.0069450227478292052],\n",
       " ('TTM', 'DKS'): [0.1008755974682532, -0.0027166926715762253],\n",
       " ('TTM', 'DOV'): [0.14672268268314681, 0.0040335572128236373],\n",
       " ('TTM', 'EC'): [0.10042485034181785, -0.0043312013230386893],\n",
       " ('TTM', 'MCHP'): [0.2658406788007962, 0.03110884949298404],\n",
       " ('TTM', 'RRC'): [0.047055950396504356, 0.022494069506311245],\n",
       " ('TTM', 'RIO'): [0.25634424929370037, 0.042921957483753798],\n",
       " ('TTM', 'WMT'): [0.0048968599045697645, 0.00038753747555802886],\n",
       " ('TTM', 'BBN'): [0.11699533189214605, 0.00096785128548368849],\n",
       " ('TTM', 'TRGP'): [0.11023603803903252, -0.0023899260999428584],\n",
       " ('TTM', 'SYK'): [0.21373303614068989, 0.011988322870384706],\n",
       " ('TTM', 'CM'): [0.18888400707964939, 0.017502955455163775],\n",
       " ('TTM', 'AVXS'): [0.055783648882200575, -0.00095541113507055498],\n",
       " ('TTM', 'SNBR'): [0.038354731641222876, 0.0073828310804615509],\n",
       " ('TTM', 'NUS'): [0.016871851254735382, -0.0013213214972223567],\n",
       " ('TTM', 'BXS'): [0.075936390067094323, -0.0046164064264865587],\n",
       " ('TTM', 'VRNS'): [0.14196557007093313, 0.02014307914867915],\n",
       " ('TTM', 'CMA'): [0.0921785902692525, 0.0042822599420286505],\n",
       " ('TTM', 'MRVL'): [0.19906603574898935, -0.00064432245520225568],\n",
       " ('TTM', 'KNL'): [0.080565986448851615, -0.0090519472407407237],\n",
       " ('TTM', 'LPL'): [0.096871577305126993, 0.010227678283350569],\n",
       " ('TTM', 'UFS'): [0.18930515929834957, 0.014802810770829115],\n",
       " ('TTM', 'AGRO'): [0.1996325102828318, 0.017083226991819273],\n",
       " ('TTM', 'RVT'): [0.26139120876861777, 0.027062241822340224],\n",
       " ('TTM', 'MPC'): [0.20539316132209237, 0.017619510535708607],\n",
       " ('TTM', 'WBT'): [0.16937878454298597, 0.018806363171162882],\n",
       " ('TTM', 'BSFT'): [0.12975147948589119, 0.0014480794249205238],\n",
       " ('TTM', 'KAI'): [0.010477426018301299, -0.0094355984193795518],\n",
       " ('TTM', 'CTMX'): [0.0658241619275165, 0.0019123643106664589],\n",
       " ('TTM', 'RF'): [0.074859838482265684, 0.041759276284075421],\n",
       " ('TTM', 'GNW'): [0.046908434582234856, 0.023931201478986561],\n",
       " ('TTM', 'AIR'): [0.10955245366798239, 0.00082754529447635645],\n",
       " ('TTM', 'SBCF'): [0.14114320703749308, 0.010325289100405926],\n",
       " ('TTM', 'DLPH'): [0.0371047761631218, -0.0015075995012784557],\n",
       " ('TTM', 'EXG'): [0.26297700274697428, 0.024286479484638461],\n",
       " ('TTM', 'ADI'): [0.11063670665701572, 0.022690754125266936],\n",
       " ('TTM', 'INOV'): [0.12125363057517582, 0.015943586659788317],\n",
       " ('TTM', 'ALRM'): [0.030530710659807791, 0.013747820545328237],\n",
       " ('TTM', 'DSW'): [-0.0068018238102721942, 0.021092563152470611],\n",
       " ('TTM', 'CALD'): [0.21994876059867047, 0.027042950322780611],\n",
       " ('TTM', 'CC'): [0.23116424138204078, 0.026698972291964895],\n",
       " ('TTM', 'CHSP'): [0.092748986445825743, -0.0015949314970254639],\n",
       " ('TTM', 'VRTX'): [0.10692881209482026, 0.0083806918195804096],\n",
       " ('TTM', 'SID'): [0.24272150157660791, 0.012749494585223696],\n",
       " ('TTM', 'BCE'): [0.15908997021765736, -0.0035024549630266115],\n",
       " ('TTM', 'LBRDA'): [0.061040357487858181, 0.013698466541219553],\n",
       " ('TTM', 'LANC'): [0.10168391527231048, 0.0071506311509259308],\n",
       " ('TTM', 'MXL'): [0.27100284830336213, 0.021655056101281017],\n",
       " ('TTM', 'BHE'): [0.13071723508208025, -0.002866462942018427],\n",
       " ('TTM', 'ARCH'): [0.10613763257091263, 0.0027004211258473501],\n",
       " ('TTM', 'CNMD'): [0.10528926366577319, -0.019210189777467322],\n",
       " ('TTM', 'PCG'): [-0.012263316868365588, -0.0070400032544154639],\n",
       " ('TTM', 'MCO'): [0.17198186808754445, 0.022426761037764288],\n",
       " ('TTM', 'GT'): [0.092488584456015377, 0.0050806192401903448],\n",
       " ('TTM', 'CMCSA'): [0.025769271110687154, -0.0014273307942946508],\n",
       " ('TTM', 'GOOG'): [0.26824623205304743, 0.015489412652120824],\n",
       " ('TTM', 'XPER'): [0.1079155606265134, 0.021128816978355346],\n",
       " ('TTM', 'MIDD'): [0.063317463443158792, 0.028070005445761027],\n",
       " ('TTM', 'SMP'): [0.10629998012652955, -0.011377785670809961],\n",
       " ('TTM', 'DY'): [0.057600027030012498, 0.0089688698308210742],\n",
       " ('TTM', 'BBL'): [0.27796256259408725, 0.02242364509288618],\n",
       " ('TTM', 'TECK'): [0.21254160267408778, 0.0049932739178199523],\n",
       " ('TTM', 'CNQ'): [0.098649805213488595, 0.00074623857553281626],\n",
       " ('TTM', 'EVT'): [0.22588748518768398, 0.0035899028808794057],\n",
       " ('TTM', 'ETP'): [0.030313605305982289, 0.017340269742609236],\n",
       " ('TTM', 'FCX'): [0.16052053574581862, 0.01034021087259571],\n",
       " ('TTM', 'FLS'): [0.10811836367150156, 0.012460189373774164],\n",
       " ('TTM', 'BLX'): [0.03659825886790808, 0.0023352254523049646],\n",
       " ('TTM', 'AABA'): [0.24348303435236926, 0.040090139678803642],\n",
       " ('TTM', 'BIIB'): [0.099248162825665398, -0.0016851825821909178],\n",
       " ('TTM', 'MMP'): [0.078394411352625731, 0.0083252135501386444],\n",
       " ('TTM', 'BBBY'): [0.083054542146776059, 0.0014430798278990248],\n",
       " ('TTM', 'FNGN'): [0.12659884591056914, 0.019109046702287753],\n",
       " ('TTM', 'REGN'): [0.069353807945149587, 0.011502630008052073],\n",
       " ('TTM', 'PII'): [0.03567366555540806, -0.002553451838015257],\n",
       " ('TTM', 'IRTC'): [0.081706781570298967, 0.010898009828046852],\n",
       " ('TTM', 'WBK'): [0.19985120166226011, 0.016651133547000433],\n",
       " ('TTM', 'TXN'): [0.22078579851981264, 0.0099712348303452655],\n",
       " ('TTM', 'CWH'): [0.017646807002295067, 0.010702192024047852],\n",
       " ('TTM', 'SGEN'): [0.045252567512256647, -0.012793844479034231],\n",
       " ('TTM', 'NP'): [0.11617614138757731, -0.0050959780420058295],\n",
       " ('TTM', 'ASB'): [0.079628099249897777, 0.017355933103086276],\n",
       " ('TTM', 'NI'): [0.10148703043886197, -0.0056609820818630027],\n",
       " ('TTM', 'ITCB'): [0.18368862812458267, 0.016404867287448732],\n",
       " ('TTM', 'UNFI'): [-0.038820353580366243, -0.0096813857691576445],\n",
       " ('TTM', 'OAS'): [0.12455790494733257, 0.0033718157552315455],\n",
       " ('TTM', 'SSTK'): [0.079714875620711848, 0.0054586661693198698],\n",
       " ('TTM', 'WAFD'): [0.087151466729451468, 0.0055514498928887004],\n",
       " ('TTM', 'KMI'): [0.22877939486832979, 0.019433187260904893],\n",
       " ('TTM', 'SEP'): [0.10249264087518303, 0.008046037507585764],\n",
       " ('TTM', 'BXMX'): [0.2418406534942317, 0.023320985461055408],\n",
       " ('TTM', 'MSM'): [0.053916012581338379, 0.027472916911991333],\n",
       " ('TTM', 'AKAM'): [0.09218510830662241, -0.00022574811529370718],\n",
       " ('TTM', 'SUI'): [0.09910749988080278, 0.0097718959538570117],\n",
       " ('TTM', 'ST'): [0.18445096077769679, 0.0086360069173004247],\n",
       " ('TTM', 'IDCC'): [0.11267797678088552, -0.0016149759236077481],\n",
       " ('TTM', 'SOHU'): [0.22541212373887237, 0.025549331848699175],\n",
       " ('TTM', 'IRS'): [0.10619521958039517, 0.0009653939163410209],\n",
       " ('TTM', 'ARLP'): [0.062517422423111285, 0.007026672324861297],\n",
       " ('TTM', 'PAAS'): [0.05059812555646187, 0.028676481530597448],\n",
       " ('TTM', 'FEX'): [0.27348622828952474, 0.019190275270775076],\n",
       " ('TTM', 'TIF'): [0.15073271296447011, 0.019204073267855684],\n",
       " ('TTM', 'EQT'): [-0.0031320139982172496, 0.013617245794980901],\n",
       " ('TTM', 'GFI'): [0.046723146344658517, 0.0026958185130820044],\n",
       " ('TTM', 'KEN'): [0.054816105536948441, -0.0074440164952570484],\n",
       " ('TTM', 'ROK'): [0.13546381351523645, 0.012099275653092574],\n",
       " ('TTM', 'ETW'): [0.25286476810646041, 0.012776527282924433],\n",
       " ('TTM', 'MYGN'): [0.010743225645039683, -0.00027445232022278926],\n",
       " ('TTM', 'TTMI'): [0.13715496933900298, 0.0055256855099784803],\n",
       " ('TTM', 'HPT'): [0.030482536358906843, 0.010492264722016099],\n",
       " ('TTM', 'F'): [0.14957847234302493, 0.016545886362831073],\n",
       " ('TTM', 'SSP'): [-0.014280541245655179, 0.0040485141923708758],\n",
       " ('TTM', 'OMAM'): [0.082624706126977573, 0.044046806901650908],\n",
       " ('TTM', 'EQM'): [0.037168287624244879, 0.01193619758391691],\n",
       " ('TTM', 'IOSP'): [0.19258321146541391, 0.039913576731224469],\n",
       " ('TTM', 'DEI'): [0.10118168812494224, 0.0067759152673813883],\n",
       " ('TTM', 'MZOR'): [0.030488379073629335, 0.0045367507270964559],\n",
       " ('TTM', 'CATM'): [0.10168959319552784, 0.0091138520226145617],\n",
       " ('TTM', 'PRU'): [0.18955482738877705, 0.0214163702699985],\n",
       " ('TTM', 'T'): [0.072429290321392753, 0.0040549632295887794],\n",
       " ('TTM', 'RGA'): [0.10367915609944012, -0.0035993261876857132],\n",
       " ('TTM', 'VNQI'): [0.19525821690889028, 0.046828266607618324],\n",
       " ('TTM', 'WTS'): [0.089117253113303291, 0.0012189982075777389],\n",
       " ('TTM', 'SABR'): [0.17028717013049349, 0.0086446473162744633],\n",
       " ('TTM', 'UNVR'): [0.17600687265234252, 0.014757809978719323],\n",
       " ('TTM', 'AWR'): [0.052955025137063128, -0.0027581776686848264],\n",
       " ('TTM', 'BNDX'): [-0.003168161323508716, 0.0050154452774653479],\n",
       " ('TTM', 'RDY'): [0.22489648766311457, 0.015486125082471599],\n",
       " ('TTM', 'STZ'): [0.082020847552772266, 0.01596419099909039],\n",
       " ('TTM', 'DDS'): [0.029830153715814989, 0.0043009825942765039],\n",
       " ('TTM', 'HOME'): [0.10217433705546945, 0.019650517642294536],\n",
       " ('TTM', 'FLOW'): [0.15106595024271657, 0.0033310645860236852],\n",
       " ('TTM', 'LAD'): [0.080973121053426023, 0.02189029890730318],\n",
       " ('TTM', 'CBT'): [0.20568608694584273, 0.023194154705684391],\n",
       " ('TTM', 'NDAQ'): [0.049345051722362254, 0.0087218106868627663],\n",
       " ('TTM', 'PAYC'): [0.14690548473628895, 0.0041733486580210989],\n",
       " ('TTM', 'GGG'): [0.11448806269676819, 0.037713474543952977],\n",
       " ('TTM', 'QEP'): [0.1484668296087055, 0.0027314490540233296],\n",
       " ('TTM', 'ALGN'): [0.10188683954010803, 0.0080199327675182282],\n",
       " ('TTM', 'GTLS'): [0.15843788860920394, 0.0018429024217524767],\n",
       " ('TTM', 'HELE'): [-0.0032085587146100801, 0.0063628247033993427],\n",
       " ('TTM', 'TRTN'): [0.1343073350943568, 0.029143396351464766],\n",
       " ('TTM', 'INT'): [0.11584578239356204, 0.006106322851346456],\n",
       " ('TTM', 'CHT'): [0.18300942307198936, 0.011754026541961352],\n",
       " ('TTM', 'FIZZ'): [0.088786017496665787, 0.0016372033776049918],\n",
       " ('TTM', 'NHI'): [0.033015100606500862, 0.010254436078050487],\n",
       " ('TTM', 'ALGT'): [0.11897265877060249, 0.015559643498744124],\n",
       " ('TTM', 'DPLO'): [0.047510447094253234, 0.001345617658768362],\n",
       " ('TTM', 'VIAV'): [0.14718305507051749, 0.010644131210031577],\n",
       " ('TTM', 'CACI'): [0.046407890146320477, 0.012941952613682538],\n",
       " ('TTM', 'COG'): [0.08590412297093894, 0.015604632280420014],\n",
       " ('TTM', 'TWTR'): [0.094261428913613277, 0.034099965383206574],\n",
       " ('TTM', 'STI'): [0.062611006519714116, 0.012850979605225755],\n",
       " ('TTM', 'CAA'): [0.19007547365033761, 0.010412008136415626],\n",
       " ('TTM', 'R'): [0.092519510700878022, 0.0095338044817656446],\n",
       " ('TTM', 'EVH'): [0.069561999245453213, 0.0038649119207185677],\n",
       " ('TTM', 'AR'): [0.045583477255060234, 0.0049850966178984222],\n",
       " ('TTM', 'CHTR'): [0.083965793866448646, 0.017064764486413583],\n",
       " ('TTM', 'PGRE'): [0.097566131599740785, 0.013654878217290341],\n",
       " ('TTM', 'CHH'): [0.16723036405261368, 0.011416948372575196],\n",
       " ('TTM', 'CWST'): [0.082181773535769553, -0.0012655315983043423],\n",
       " ('TTM', 'AWI'): [-0.0010991458568348491, -0.0063594908923883114],\n",
       " ('TTM', 'FOE'): [0.19116039057956799, 0.0066849368672042223],\n",
       " ('TTM', 'TROW'): [0.055580688914311886, 0.019234857099407945],\n",
       " ('TTM', 'TX'): [0.26252770277084148, 0.03110466228434821],\n",
       " ('TTM', 'SPG'): [0.048448486683577541, -0.0039517118763004065],\n",
       " ('TTM', 'PEGA'): [0.18668691030350729, 0.022550255898527289],\n",
       " ('TTM', 'TMHC'): [0.21113607499354431, 0.018012421130878052],\n",
       " ('TTM', 'GWR'): [0.16510693970109075, 0.010273305334304934],\n",
       " ('TTM', 'PDI'): [0.25194758564191189, 0.030865116913820226],\n",
       " ('TTM', 'UMPQ'): [0.1113433947742514, 0.026851460253523911],\n",
       " ('TTM', 'WFC'): [0.027678890064647448, 0.00012710549830334457],\n",
       " ('TTM', 'GTT'): [0.13261673849929498, 0.0054023109144585415],\n",
       " ('TTM', 'CVRR'): [0.15085762258874011, 0.010009148504546541],\n",
       " ('TTM', 'ANET'): [0.11596734179661806, 0.0056860857697032807],\n",
       " ('TTM', 'SAGE'): [-0.012894520048603319, -0.0045071347527190072],\n",
       " ('TTM', 'HUBB'): [0.15138299255081977, -0.0029419277387214707],\n",
       " ('TTM', 'TRIP'): [0.14421468137132099, 0.022188665860198187],\n",
       " ('TTM', 'HLI'): [0.077012910263322298, 0.021786257850761312],\n",
       " ('TTM', 'FIS'): [0.2232934495329611, 0.013384857187852357],\n",
       " ('TTM', 'SUM'): [0.10966518926937921, -0.00618444408639671],\n",
       " ('TTM', 'HPE'): [0.10404335838280812, 0.0046523264673205668],\n",
       " ('TTM', 'FIVN'): [0.059333153284527984, 0.027117537309148291],\n",
       " ('TTM', 'VVI'): [0.119382881477841, 0.0036618994634625961],\n",
       " ('TTM', 'LOGI'): [0.15830704989658326, 0.020762424441294097],\n",
       " ('TTM', 'PNM'): [0.051508752016652372, -0.0004381437903785135],\n",
       " ('TTM', 'ES'): [0.057689163906492376, 0.009869566387420009],\n",
       " ('TTM', 'MTX'): [0.20820006376325761, 0.0054395774347545918],\n",
       " ('TTM', 'BEN'): [0.1219715648556967, 0.029418681317939403],\n",
       " ('TTM', 'ECOL'): [0.059224871040560324, 0.011745067902237316],\n",
       " ('TTM', 'HSBC'): [0.12634901119854125, 0.037344482076714945],\n",
       " ('TTM', 'GVA'): [0.086490416066574094, 0.0018659744837246554],\n",
       " ('TTM', 'ENBL'): [0.12137579762192791, 0.0064267901025628739],\n",
       " ('TTM', 'AYI'): [0.01942926187828781, -0.0057503646733800028],\n",
       " ('TTM', 'VIA'): [0.013980911314717619, 0.0078696630367428508],\n",
       " ('TTM', 'PFG'): [0.20765853966288347, 0.007230366534772212],\n",
       " ('TTM', 'FCAU'): [0.23688454344416171, 0.040207177439845421],\n",
       " ('TTM', 'BKD'): [0.16616856699607174, 0.0059478598405542761],\n",
       " ('TTM', 'CNP'): [0.082901134708658938, 0.0043211033731133629],\n",
       " ('TTM', 'GDV'): [0.25249502459916517, 0.019292661226268347],\n",
       " ('TTM', 'FRME'): [0.041433960671800239, 0.0033896974685570119],\n",
       " ('TTM', 'BBT'): [0.075603712571374243, 0.009331331535458719],\n",
       " ('TTM', 'IQV'): [0.1241181374049468, -0.0026701468046932942],\n",
       " ('TTM', 'LII'): [0.1272638027215483, 0.012803457181453671],\n",
       " ('TTM', 'PF'): [0.1089952985172743, 0.0083368918982192671],\n",
       " ('TTM', 'GTY'): [-0.003812607002379325, 0.0089343840372460293],\n",
       " ('TTM', 'SGMS'): [0.089948152130064629, 0.0031669256192613294],\n",
       " ('TTM', 'PPL'): [-0.018044486691838946, 0.018249938000030511],\n",
       " ('TTM', 'OCLR'): [0.063278755968167469, 0.013159415046632119],\n",
       " ('TTM', 'WING'): [0.062557765102847371, 0.004101747243945659],\n",
       " ('TTM', 'PKX'): [0.20031666994766981, 0.020078400335597501],\n",
       " ('TTM', 'GGAL'): [0.20844922479396077, 0.0082799454054727634],\n",
       " ('TTM', 'EGHT'): [0.10700863355949485, 0.003123686366226158],\n",
       " ('TTM', 'IRBT'): [0.17460593182089679, 1.0978531032974218e-05],\n",
       " ('TTM', 'CS'): [0.13082425283812071, 0.019476950445953663],\n",
       " ('TTM', 'ORAN'): [0.17704813780523312, 0.026799482061392148],\n",
       " ('TTM', 'GRUB'): [0.089940124100465688, 0.0018307182982138493],\n",
       " ('TTM', 'YUM'): [0.074981500926303887, 0.002283999824394028],\n",
       " ('TTM', 'MSI'): [0.19344426158030348, 0.0026189090816861305],\n",
       " ('TTM', 'REG'): [0.074259482251667716, 0.0025864049524279308],\n",
       " ('TTM', 'ASH'): [0.21039154269428434, 0.020343729214052142],\n",
       " ('TTM', 'BTI'): [0.12205970666341429, 0.014047013255129288],\n",
       " ('TTM', 'STX'): [0.051712793641162824, 0.0015294365399327293],\n",
       " ('TTM', 'FMI'): [0.068487691159718908, 0.013661895905932088],\n",
       " ('TTM', 'SEE'): [0.19798819869233292, 0.025558072091154783],\n",
       " ('TTM', 'COP'): [0.11872331225861227, 0.00016743981025773167],\n",
       " ('TTM', 'TSLX'): [0.14234264629059212, 0.018717182214919612],\n",
       " ('TTM', 'GEF'): [0.1175864127053735, 0.012510204734893272],\n",
       " ('TTM', 'MDU'): [0.11624750914086349, 0.013430589398500482],\n",
       " ('TTM', 'CCK'): [0.14990816499537829, 0.018451857600238063],\n",
       " ('TTM', 'DSL'): [0.1869366052892461, 0.001105858330169295],\n",
       " ('TTM', 'QUOT'): [0.078470953428688373, -0.0037632811634469273],\n",
       " ('TTM', 'WR'): [-0.0053046141052839613, 0.00089774062888912508],\n",
       " ('TTM', 'TGS'): [0.20815041544649998, 0.0080289360470014257],\n",
       " ('TTM', 'GRPN'): [0.017956795768817993, 0.0025699072752521116],\n",
       " ('TTM', 'JJSF'): [0.052679265623311863, 0.0006124301047048087],\n",
       " ('TTM', 'ERI'): [0.031843219129899188, 0.016719511169854206],\n",
       " ('TTM', 'AMCX'): [0.048820569676327141, -0.00048869919283193173],\n",
       " ('TTM', 'BERY'): [0.18527677054812783, 0.016259664477301358],\n",
       " ('TTM', 'CRUS'): [0.23839962224998532, 0.029839032997809045],\n",
       " ('TTM', 'SLM'): [0.10574296432241667, 0.012529061380840641],\n",
       " ('TTM', 'ANDV'): [0.10109305240851839, 0.0072103263716759717],\n",
       " ('TTM', 'MAN'): [0.12728353388424071, 0.006281944253121354],\n",
       " ('TTM', 'SMG'): [0.057257542348336452, 0.010895298639684838],\n",
       " ('TTM', 'CRH'): [0.26713652323890891, 0.0030218822987750464],\n",
       " ('TTM', 'IMAX'): [0.13436184408165092, -0.0036437040802018436],\n",
       " ('TTM', 'EIG'): [0.068794976891400572, 0.0021037460485115733],\n",
       " ('TTM', 'NBHC'): [0.071504117337026551, 0.0018310291191897892],\n",
       " ('TTM', 'GBCI'): [0.043102629815622753, 0.0022682183251687316],\n",
       " ('TTM', 'BOLD'): [0.12857171167822562, 0.012460644071050891],\n",
       " ('TTM', 'GEL'): [0.0064401735804978325, 0.0039608943988152104],\n",
       " ('TTM', 'XON'): [0.083491454857429079, 0.015925125378825126],\n",
       " ('TTM', 'PXD'): [0.123098714832791, 0.0010168783840230414],\n",
       " ('TTM', 'PEB'): [0.056860053055236705, 0.0091609129205294359],\n",
       " ('TTM', 'KN'): [0.1440576972188706, 0.033232814714493041],\n",
       " ('TTM', 'TRP'): [0.21894296296952778, 0.017226125434899774],\n",
       " ('TTM', 'IT'): [0.11883374879134471, 0.01036064377169062],\n",
       " ('TTM', 'XIV'): [0.28994662539181298, 0.03795151567805434],\n",
       " ('TTM', 'PB'): [0.1118315024148797, 0.023946827343955701],\n",
       " ('TTM', 'ASX'): [0.25060938774573949, 0.048476904579750561],\n",
       " ('TTM', 'INXN'): [0.1113553750298415, 0.015814112788751413],\n",
       " ('TTM', 'COKE'): [0.094962927429587451, 0.011448223244224467],\n",
       " ('TTM', 'MRC'): [0.11521055458051059, 0.014508259039116941],\n",
       " ('TTM', 'BIP'): [0.10982718809369826, 0.0073460096148502295],\n",
       " ('TTM', 'SODA'): [0.031652787576148235, 0.018253011254372231],\n",
       " ('TTM', 'CCMP'): [0.24121459200801718, 0.023491314623618802],\n",
       " ('TTM', 'CNHI'): [0.2143565449569412, 0.024849478892812762],\n",
       " ('TTM', 'EE'): [0.057998710009515293, 0.0013568569615816902],\n",
       " ('TTM', 'SU'): [0.097315810997051416, -0.0020685938528708335],\n",
       " ('TTM', 'SYNT'): [-0.12967788186626583, 0.0093946814635240544],\n",
       " ('TTM', 'XLNX'): [0.14155923836794373, 0.014300331212391021],\n",
       " ('TTM', 'RDUS'): [0.029919119898866416, 0.00034085975297778993],\n",
       " ('TTM', 'EFII'): [0.038973919469830594, 0.01909394833681918],\n",
       " ('TTM', 'AEIS'): [0.24120414610456833, 0.039229533999163027],\n",
       " ('TTM', 'TTEC'): [0.14654325540819549, 0.0062024664848878185],\n",
       " ('TTM', 'AU'): [-0.0058770570396620703, 0.0053535841398044369],\n",
       " ('TTM', 'PDS'): [0.12552482291705058, 0.012136089935721404],\n",
       " ('TTM', 'OZM'): [0.059851521338788329, 0.002714214064736833],\n",
       " ('TTM', 'RBA'): [0.15786810924250264, 0.013738047079507154],\n",
       " ('TTM', 'AOD'): [0.23598446306045948, 0.024647154714318276],\n",
       " ('TTM', 'WGO'): [0.055867124389632442, 0.0072934274163258261],\n",
       " ('TTM', 'LH'): [0.12851637273974748, 0.010344214244302772],\n",
       " ('TTM', 'AGIO'): [0.075703630014072862, 0.0061373100534363942],\n",
       " ('TTM', 'RP'): [0.12722608612063299, 0.0092763030508175078],\n",
       " ('TTM', 'MGLN'): [-0.00063305890480773994, -0.0063784039658006542],\n",
       " ('TTM', 'YY'): [0.12492430456158587, 0.010240872607585209],\n",
       " ('TTM', 'FAF'): [0.19326727775185212, 0.013267429179085462],\n",
       " ('TTM', 'KS'): [0.10133095275769016, 0.013322295672199138],\n",
       " ('TTM', 'BG'): [0.097318351314992127, 0.033824866963780842],\n",
       " ('TTM', 'WPZ'): [0.11091952145362476, 0.0066022848851117529],\n",
       " ('TTM', 'EME'): [0.089007838528065528, 0.014171808524777448],\n",
       " ('TTM', 'ONEQ'): [0.30733825258837216, 0.026912264721037235],\n",
       " ('TTM', 'BCS'): [0.084823620078434331, 0.016550693788094019],\n",
       " ('TTM', 'HL'): [0.17612037861911792, 0.025906332123432369],\n",
       " ('TTM', 'PKW'): [0.2219884779225664, 0.026526287404643731],\n",
       " ('TTM', 'BPOP'): [0.08085486223986417, 0.0057507617519404588],\n",
       " ('TTM', 'POR'): [0.070746209644237473, 0.0020139914586150775],\n",
       " ('TTM', 'BHP'): [0.29422583963979765, 0.012981086343232967],\n",
       " ('TTM', 'SPWR'): [0.17708760807622359, 0.0038650620521869274],\n",
       " ('TTM', 'NWL'): [0.10216565032634597, 0.0020981816192153992],\n",
       " ('TTM', 'TD'): [0.14752341717974377, 0.01659160511386952],\n",
       " ('TTM', 'APD'): [0.099517750160632204, -0.0010050059982897777],\n",
       " ('TTM', 'SEDG'): [0.081385126554117282, 0.015931804891542851],\n",
       " ('TTM', 'PAG'): [0.020213656216665692, 0.021212233660750604],\n",
       " ('TTM', 'ESPR'): [0.050404632744497219, -0.0043378892099189001],\n",
       " ('TTM', 'FRC'): [0.11270900976221901, 0.019535043955048504],\n",
       " ('TTM', 'MRCY'): [0.04082696072534147, -0.0051774881864084937],\n",
       " ('TTM', 'JBT'): [0.12301442808204725, -0.01045408972851947],\n",
       " ('TTM', 'SBSI'): [0.087882641548524487, 0.013615125176286835],\n",
       " ('TTM', 'UNIT'): [0.20563216354966385, 0.012218023706416774],\n",
       " ('TTM', 'JLL'): [-0.00055753642985022765, 0.023852150163613986],\n",
       " ('TTM', 'DIOD'): [0.21298756674464805, 0.019791766676316117],\n",
       " ('TTM', 'AMTD'): [0.10520293213614554, 0.0037628663370482874],\n",
       " ('TTM', 'CYD'): [0.26311413594848687, 0.023074005801058006],\n",
       " ('TTM', 'VNOM'): [0.11833423818401914, -0.00010981708122672333],\n",
       " ('TTM', 'USAC'): [0.0081648677032847873, -0.0050028862978225754],\n",
       " ('TTM', 'FTS'): [0.16057453684231243, 0.011369031656824046],\n",
       " ('TTM', 'ALL'): [0.010620963617067405, -0.0015202458707105199],\n",
       " ('TTM', 'ALB'): [0.35367634009872218, 0.064428513596628517],\n",
       " ('TTM', 'SYMC'): [0.20331722425565379, 0.0049794191331591622],\n",
       " ('TTM', 'ADC'): [0.16374590393319588, 0.0019061074735200112],\n",
       " ('TTM', 'ROLL'): [0.11175674622771539, 0.014191575650476707],\n",
       " ('TTM', 'TKC'): [0.10557699770855571, 0.0054434110605117957],\n",
       " ('TTM', 'KOS'): [0.071852708477945323, 0.013292206309647937],\n",
       " ('TTM', 'NNI'): [0.067688338442867479, 0.0048988316305138896],\n",
       " ('TTM', 'CSGP'): [0.067629484988129776, 0.0074459885326553484],\n",
       " ('TTM', 'SSD'): [0.085949472391627577, -0.00042688164344094467],\n",
       " ('TTM', 'LZB'): [-0.045605313163753172, -0.0076615714487308032],\n",
       " ('TTM', 'CBPO'): [0.11922673834109578, 0.0066398351391241265],\n",
       " ('TTM', 'GOGL'): [0.13249104868438008, -0.0055649002483902869],\n",
       " ('TTM', 'TBPH'): [0.068821113975532158, 0.0066927684335163322],\n",
       " ('TTM', 'TAC'): [0.15390843975622309, 0.0073016063145405711],\n",
       " ('TTM', 'BSMX'): [0.1706584180556113, 0.014483464831206411],\n",
       " ('TTM', 'VVC'): [0.071193211648083718, -0.0021130535886185577],\n",
       " ('TTM', 'CAL'): [0.079011511065957357, -0.0039226540772328939],\n",
       " ('TTM', 'TEAM'): [0.11032981070939075, 0.0018942857442129167],\n",
       " ('TTM', 'SIG'): [0.010555823800376261, 0.00059613067506298755],\n",
       " ('TTM', 'AAPL'): [0.19688752718030555, 0.025936809784568873],\n",
       " ('TTM', 'FMX'): [0.17836216272565739, -0.0098679066259961552],\n",
       " ('TTM', 'TSN'): [0.029062239875236911, 0.025655740124071076],\n",
       " ('TTM', 'CLNS'): [0.13213125432397671, 0.004404845726695133],\n",
       " ('TTM', 'AMG'): [0.16743776614366432, 0.036238712705964155],\n",
       " ('TTM', 'HMC'): [0.18746600313990852, 0.017207751403308293],\n",
       " ('TTM', 'FULT'): [0.089070636025331926, 0.0076308399215203361],\n",
       " ('TTM', 'STBA'): [0.11820001918330313, 0.012478608911443654],\n",
       " ('TTM', 'VIPS'): [0.13677897955188534, 0.018936183718174994],\n",
       " ('TTM', 'VSAT'): [0.080393725608036912, 0.0038928174107979532],\n",
       " ('TTM', 'NXTM'): [0.02782015756796016, -0.0029378892493953433],\n",
       " ('TTM', 'MGRC'): [0.10802866323478522, -0.0012518391070174195],\n",
       " ('TTM', 'HAIN'): [0.026786631881191309, 0.00047019682490434078],\n",
       " ('TTM', 'WFT'): [0.075265797644873594, 0.0073567028178470224],\n",
       " ('TTM', 'FB'): [0.24328697158829735, 0.027125002313066044],\n",
       " ('TTM', 'FFIV'): [0.082060140053547531, 0.0067601438371423343],\n",
       " ('TTM', 'LOGM'): [0.29986173570365415, 0.021445805058275851],\n",
       " ('TTM', 'JNJ'): [0.077003822546337308, 1.6742139237840269e-05],\n",
       " ('TTM', 'QGEN'): [0.18109144251404438, 0.015032889790215762],\n",
       " ('TTM', 'DATA'): [0.10064784366550394, 0.028452024592412396],\n",
       " ('TTM', 'FOXF'): [0.086177000365217304, -0.0036640766110978252],\n",
       " ('TTM', 'OC'): [0.16044593230015047, 0.0014792326620560855],\n",
       " ('TTM', 'GHDX'): [0.046799427371392671, 0.01280719261093421],\n",
       " ('TTM', 'BDJ'): [0.16662038899711321, 0.0098384556066803287],\n",
       " ('TTM', 'FICO'): [0.16171167439547399, 0.025035977714295089],\n",
       " ('TTM', 'BRKL'): [0.088291824006034372, 0.0059151770889517815],\n",
       " ('TTM', 'ATO'): [0.100889311603959, -0.0037791322653882163],\n",
       " ('TTM', 'PAHC'): [0.10763274689343287, 0.0010918570553438481],\n",
       " ('TTM', 'MTOR'): [0.12912565944651752, 0.0025740226912494392],\n",
       " ('TTM', 'ORA'): [0.10646282831303759, -0.0073985908434723155],\n",
       " ('TTM', 'LEG'): [0.15789049623579718, 0.028388428415301609],\n",
       " ('TTM', 'SAIC'): [0.085004872500145309, 0.0086968166421283726],\n",
       " ('TTM', 'BCO'): [0.16759466308977838, 0.019663804126623448],\n",
       " ('TTM', 'EA'): [0.1684173713086338, 0.0023140730840245853],\n",
       " ('TTM', 'RSG'): [-0.001757881476044922, -0.0083304873629365794],\n",
       " ('TTM', 'PMT'): [0.1362733784059707, 0.0061356487114507374],\n",
       " ('TTM', 'PSA'): [0.10772104049933801, 0.0055157421880733387],\n",
       " ('TTM', 'UCBI'): [0.1194480215344188, 0.008472357572022856],\n",
       " ('TTM', 'SLG'): [0.013082050316263839, 0.00038142472789159601],\n",
       " ('TTM', 'IMPV'): [0.13903752904849143, 0.018479269889014886],\n",
       " ('TTM', 'RENX'): [0.11318529593844408, 0.014555723740469942],\n",
       " ('TTM', 'CODI'): [0.051190991337867787, 0.0069688677307723343],\n",
       " ('TTM', 'MMI'): [0.023062215258307667, 0.020110676193767444],\n",
       " ('TTM', 'BEL'): [0.1604957991341216, 0.016952031094627815],\n",
       " ('TTM', 'AEG'): [0.040184195340570356, 0.011613501389289613],\n",
       " ('TTM', 'LEN'): [0.19065042366811163, 0.0059598555352210923],\n",
       " ...}"
      ]
     },
     "execution_count": 18,
     "metadata": {},
     "output_type": "execute_result"
    }
   ],
   "source": [
    "with open('filteresult.pickle', 'rb') as handle:\n",
    "    filteresult = pickle.load(handle)\n",
    "filteresult"
   ]
  },
  {
   "cell_type": "markdown",
   "metadata": {},
   "source": [
    "_now we need to adjust the result since we don't want ETF appears in the result_"
   ]
  },
  {
   "cell_type": "code",
   "execution_count": 84,
   "metadata": {
    "collapsed": true
   },
   "outputs": [],
   "source": [
    "nasdaq=pd.read_csv(\"companylist-1.csv\")\n",
    "etflist = set()\n",
    "for i in range(nasdaq.shape[0]):\n",
    "    if nasdaq['Sector'][i]=='n/a':\n",
    "        etflist.add(nasdaq['Symbol'][i])\n",
    "\n",
    "nyse =pd.read_csv(\"companylist-2.csv\")\n",
    "for i in range(nyse.shape[0]):\n",
    "    if nyse['Sector'][i]=='n/a':\n",
    "        etflist.add(nyse['Symbol'][i])"
   ]
  },
  {
   "cell_type": "code",
   "execution_count": 102,
   "metadata": {
    "collapsed": true
   },
   "outputs": [],
   "source": [
    "filteresult2 = {}\n",
    "\n",
    "for k,v in filteresult.items():\n",
    "    if k[0] in etflist or k[1] in etflist:\n",
    "        continue\n",
    "    else:\n",
    "        filteresult2[k]=v\n",
    "\n",
    "temp = filteresult\n",
    "filteresult = filteresult2\n",
    "filteresult2 = temp"
   ]
  },
  {
   "cell_type": "code",
   "execution_count": 114,
   "metadata": {
    "collapsed": true
   },
   "outputs": [],
   "source": [
    "with open('filteresult2.pickle', 'wb') as handle:\n",
    "    pickle.dump(filteresult, handle, protocol=pickle.HIGHEST_PROTOCOL)"
   ]
  },
  {
   "cell_type": "code",
   "execution_count": 104,
   "metadata": {
    "collapsed": true
   },
   "outputs": [],
   "source": [
    "newpairs = []\n",
    "for k in filteresult:\n",
    "    newpairs.append(k)\n",
    "numl = len(newpairs)"
   ]
  },
  {
   "cell_type": "markdown",
   "metadata": {},
   "source": [
    "_array of all adjusted mutual information ratio_"
   ]
  },
  {
   "cell_type": "code",
   "execution_count": 105,
   "metadata": {
    "collapsed": true
   },
   "outputs": [],
   "source": [
    "tt = [muinfo[p[1]][p[0]] for p in newpairs]"
   ]
  },
  {
   "cell_type": "code",
   "execution_count": 106,
   "metadata": {},
   "outputs": [
    {
     "data": {
      "text/plain": [
       "{'max': 0.5984014525774638,\n",
       " 'mean': 0.014122361043752417,\n",
       " 'median': 0.010203614777638814,\n",
       " 'min': -0.02964282831040967,\n",
       " 'std': 0.02075209296281099}"
      ]
     },
     "execution_count": 106,
     "metadata": {},
     "output_type": "execute_result"
    }
   ],
   "source": [
    "muinfosum = {'mean':np.mean(tt),'std':np.std(tt),'median':np.median(tt),'max':max(tt),'min':min(tt)}\n",
    "muinfosum"
   ]
  },
  {
   "cell_type": "markdown",
   "metadata": {},
   "source": [
    "_array of all correlation ratio_"
   ]
  },
  {
   "cell_type": "code",
   "execution_count": 107,
   "metadata": {
    "collapsed": true
   },
   "outputs": [],
   "source": [
    "ss = [corr[p[1]][p[0]] for p in newpairs]"
   ]
  },
  {
   "cell_type": "code",
   "execution_count": 108,
   "metadata": {},
   "outputs": [
    {
     "data": {
      "text/plain": [
       "{'max': 0.98374948796804673,\n",
       " 'mean': 0.12600641299657173,\n",
       " 'median': 0.11490012601394456,\n",
       " 'min': -0.46963406812094638,\n",
       " 'std': 0.11646867705491852}"
      ]
     },
     "execution_count": 108,
     "metadata": {},
     "output_type": "execute_result"
    }
   ],
   "source": [
    "corinfosum = {'mean':np.mean(ss),'std':np.std(ss),'median':np.median(ss),'max':max(ss),'min':min(ss)}\n",
    "corinfosum"
   ]
  },
  {
   "cell_type": "code",
   "execution_count": 109,
   "metadata": {
    "collapsed": true
   },
   "outputs": [],
   "source": [
    "corronethird = np.percentile(ss,33)\n",
    "corrtwothird = np.percentile(ss,66)\n",
    "muionethird = np.percentile(tt,33)\n",
    "muitwothird = np.percentile(tt,66)"
   ]
  },
  {
   "cell_type": "markdown",
   "metadata": {},
   "source": [
    "_let's divide the result into 100 blocks with respect to quantile:_"
   ]
  },
  {
   "cell_type": "code",
   "execution_count": 110,
   "metadata": {
    "collapsed": true
   },
   "outputs": [],
   "source": [
    "divideq = []\n",
    "howmanygroup = 10\n",
    "barr = 100.0/howmanygroup\n",
    "\n",
    "ruler = []\n",
    "ruler.append(0)\n",
    "for i in range(howmanygroup):\n",
    "    ruler.append((i+1)*barr)\n",
    "\n",
    "corruler = []\n",
    "for i in range(howmanygroup+1):\n",
    "    corruler.append(np.percentile(ss,ruler[i]))\n",
    "\n",
    "muiruler = []\n",
    "for i in range(howmanygroup+1):\n",
    "    muiruler.append(np.percentile(tt,ruler[i]))\n",
    "\n",
    "corrinter = []\n",
    "for i in range(howmanygroup):\n",
    "    corrinter.append(pyinter.closed(corruler[i],corruler[i+1]))\n",
    "\n",
    "muinter = []\n",
    "for i in range(howmanygroup):\n",
    "    muinter.append(pyinter.closed(muiruler[i],muiruler[i+1]))"
   ]
  },
  {
   "cell_type": "code",
   "execution_count": 111,
   "metadata": {
    "collapsed": true
   },
   "outputs": [],
   "source": [
    "resultmap = pd.DataFrame(np.zeros((howmanygroup,howmanygroup)))"
   ]
  },
  {
   "cell_type": "code",
   "execution_count": 112,
   "metadata": {},
   "outputs": [
    {
     "data": {
      "text/html": [
       "<div>\n",
       "<style>\n",
       "    .dataframe thead tr:only-child th {\n",
       "        text-align: right;\n",
       "    }\n",
       "\n",
       "    .dataframe thead th {\n",
       "        text-align: left;\n",
       "    }\n",
       "\n",
       "    .dataframe tbody tr th {\n",
       "        vertical-align: top;\n",
       "    }\n",
       "</style>\n",
       "<table border=\"1\" class=\"dataframe\">\n",
       "  <thead>\n",
       "    <tr style=\"text-align: right;\">\n",
       "      <th></th>\n",
       "      <th>0</th>\n",
       "      <th>1</th>\n",
       "      <th>2</th>\n",
       "      <th>3</th>\n",
       "      <th>4</th>\n",
       "      <th>5</th>\n",
       "      <th>6</th>\n",
       "      <th>7</th>\n",
       "      <th>8</th>\n",
       "      <th>9</th>\n",
       "    </tr>\n",
       "  </thead>\n",
       "  <tbody>\n",
       "    <tr>\n",
       "      <th>0</th>\n",
       "      <td>28737.0</td>\n",
       "      <td>36668.0</td>\n",
       "      <td>33299.0</td>\n",
       "      <td>27301.0</td>\n",
       "      <td>20473.0</td>\n",
       "      <td>13822.0</td>\n",
       "      <td>7733.0</td>\n",
       "      <td>2896.0</td>\n",
       "      <td>468.0</td>\n",
       "      <td>6.0</td>\n",
       "    </tr>\n",
       "    <tr>\n",
       "      <th>1</th>\n",
       "      <td>25719.0</td>\n",
       "      <td>29162.0</td>\n",
       "      <td>27949.0</td>\n",
       "      <td>25745.0</td>\n",
       "      <td>22669.0</td>\n",
       "      <td>18469.0</td>\n",
       "      <td>13059.0</td>\n",
       "      <td>6851.0</td>\n",
       "      <td>1740.0</td>\n",
       "      <td>39.0</td>\n",
       "    </tr>\n",
       "    <tr>\n",
       "      <th>2</th>\n",
       "      <td>23395.0</td>\n",
       "      <td>24273.0</td>\n",
       "      <td>23869.0</td>\n",
       "      <td>23937.0</td>\n",
       "      <td>23166.0</td>\n",
       "      <td>20797.0</td>\n",
       "      <td>16880.0</td>\n",
       "      <td>11052.0</td>\n",
       "      <td>3886.0</td>\n",
       "      <td>148.0</td>\n",
       "    </tr>\n",
       "    <tr>\n",
       "      <th>3</th>\n",
       "      <td>21385.0</td>\n",
       "      <td>20843.0</td>\n",
       "      <td>21292.0</td>\n",
       "      <td>21992.0</td>\n",
       "      <td>22276.0</td>\n",
       "      <td>21969.0</td>\n",
       "      <td>19471.0</td>\n",
       "      <td>14847.0</td>\n",
       "      <td>6839.0</td>\n",
       "      <td>488.0</td>\n",
       "    </tr>\n",
       "    <tr>\n",
       "      <th>4</th>\n",
       "      <td>19476.0</td>\n",
       "      <td>17740.0</td>\n",
       "      <td>18674.0</td>\n",
       "      <td>19754.0</td>\n",
       "      <td>20783.0</td>\n",
       "      <td>21797.0</td>\n",
       "      <td>21920.0</td>\n",
       "      <td>19126.0</td>\n",
       "      <td>11064.0</td>\n",
       "      <td>1069.0</td>\n",
       "    </tr>\n",
       "    <tr>\n",
       "      <th>5</th>\n",
       "      <td>17199.0</td>\n",
       "      <td>14992.0</td>\n",
       "      <td>15711.0</td>\n",
       "      <td>17422.0</td>\n",
       "      <td>19383.0</td>\n",
       "      <td>21168.0</td>\n",
       "      <td>23245.0</td>\n",
       "      <td>23003.0</td>\n",
       "      <td>16579.0</td>\n",
       "      <td>2700.0</td>\n",
       "    </tr>\n",
       "    <tr>\n",
       "      <th>6</th>\n",
       "      <td>14526.0</td>\n",
       "      <td>11883.0</td>\n",
       "      <td>12919.0</td>\n",
       "      <td>14575.0</td>\n",
       "      <td>17094.0</td>\n",
       "      <td>19833.0</td>\n",
       "      <td>23374.0</td>\n",
       "      <td>26801.0</td>\n",
       "      <td>24500.0</td>\n",
       "      <td>5898.0</td>\n",
       "    </tr>\n",
       "    <tr>\n",
       "      <th>7</th>\n",
       "      <td>11464.0</td>\n",
       "      <td>8958.0</td>\n",
       "      <td>9849.0</td>\n",
       "      <td>11398.0</td>\n",
       "      <td>13633.0</td>\n",
       "      <td>17218.0</td>\n",
       "      <td>21961.0</td>\n",
       "      <td>28692.0</td>\n",
       "      <td>34241.0</td>\n",
       "      <td>13988.0</td>\n",
       "    </tr>\n",
       "    <tr>\n",
       "      <th>8</th>\n",
       "      <td>7537.0</td>\n",
       "      <td>5470.0</td>\n",
       "      <td>6178.0</td>\n",
       "      <td>7206.0</td>\n",
       "      <td>9124.0</td>\n",
       "      <td>12292.0</td>\n",
       "      <td>17377.0</td>\n",
       "      <td>26647.0</td>\n",
       "      <td>43857.0</td>\n",
       "      <td>35715.0</td>\n",
       "    </tr>\n",
       "    <tr>\n",
       "      <th>9</th>\n",
       "      <td>1965.0</td>\n",
       "      <td>1413.0</td>\n",
       "      <td>1663.0</td>\n",
       "      <td>2072.0</td>\n",
       "      <td>2802.0</td>\n",
       "      <td>4037.0</td>\n",
       "      <td>6383.0</td>\n",
       "      <td>11487.0</td>\n",
       "      <td>28229.0</td>\n",
       "      <td>111352.0</td>\n",
       "    </tr>\n",
       "  </tbody>\n",
       "</table>\n",
       "</div>"
      ],
      "text/plain": [
       "         0        1        2        3        4        5        6        7  \\\n",
       "0  28737.0  36668.0  33299.0  27301.0  20473.0  13822.0   7733.0   2896.0   \n",
       "1  25719.0  29162.0  27949.0  25745.0  22669.0  18469.0  13059.0   6851.0   \n",
       "2  23395.0  24273.0  23869.0  23937.0  23166.0  20797.0  16880.0  11052.0   \n",
       "3  21385.0  20843.0  21292.0  21992.0  22276.0  21969.0  19471.0  14847.0   \n",
       "4  19476.0  17740.0  18674.0  19754.0  20783.0  21797.0  21920.0  19126.0   \n",
       "5  17199.0  14992.0  15711.0  17422.0  19383.0  21168.0  23245.0  23003.0   \n",
       "6  14526.0  11883.0  12919.0  14575.0  17094.0  19833.0  23374.0  26801.0   \n",
       "7  11464.0   8958.0   9849.0  11398.0  13633.0  17218.0  21961.0  28692.0   \n",
       "8   7537.0   5470.0   6178.0   7206.0   9124.0  12292.0  17377.0  26647.0   \n",
       "9   1965.0   1413.0   1663.0   2072.0   2802.0   4037.0   6383.0  11487.0   \n",
       "\n",
       "         8         9  \n",
       "0    468.0       6.0  \n",
       "1   1740.0      39.0  \n",
       "2   3886.0     148.0  \n",
       "3   6839.0     488.0  \n",
       "4  11064.0    1069.0  \n",
       "5  16579.0    2700.0  \n",
       "6  24500.0    5898.0  \n",
       "7  34241.0   13988.0  \n",
       "8  43857.0   35715.0  \n",
       "9  28229.0  111352.0  "
      ]
     },
     "execution_count": 112,
     "metadata": {},
     "output_type": "execute_result"
    }
   ],
   "source": [
    "lrow = 0;\n",
    "lcol = 0;\n",
    "for p in newpairs:\n",
    "    for i in range(howmanygroup):\n",
    "        if filteresult[p][0] in corrinter[i]:\n",
    "            lcol = i\n",
    "    for j in range(howmanygroup):\n",
    "        if filteresult[p][1] in muinter[j]:\n",
    "            lrow = j\n",
    "    resultmap[lcol][lrow]=resultmap[lcol][lrow]+1\n",
    "resultmap"
   ]
  },
  {
   "cell_type": "code",
   "execution_count": 113,
   "metadata": {
    "collapsed": true
   },
   "outputs": [],
   "source": [
    "np.save('bigmatrixquantile.npy', resultmap)"
   ]
  },
  {
   "cell_type": "code",
   "execution_count": 117,
   "metadata": {},
   "outputs": [
    {
     "data": {
      "text/plain": [
       "[Text(33,0.5,'adjusted mutual information'), Text(0.5,15,'correlation')]"
      ]
     },
     "execution_count": 117,
     "metadata": {},
     "output_type": "execute_result"
    }
   ],
   "source": [
    "ax = sns.heatmap(resultmap, annot=False)\n",
    "ax.set(ylabel=\"adjusted mutual information\", xlabel=\"correlation\")"
   ]
  },
  {
   "cell_type": "code",
   "execution_count": 118,
   "metadata": {},
   "outputs": [
    {
     "data": {
      "image/png": "[encoded data removed]",
      "text/plain": [
       "<matplotlib.figure.Figure at 0x21115ab3860>"
      ]
     },
     "metadata": {},
     "output_type": "display_data"
    }
   ],
   "source": [
    "plt.show()"
   ]
  },
  {
   "cell_type": "markdown",
   "metadata": {},
   "source": [
    "_cut the universe into 9 blocks with respect to quantile_"
   ]
  },
  {
   "cell_type": "code",
   "execution_count": 119,
   "metadata": {
    "collapsed": true
   },
   "outputs": [],
   "source": [
    "hh ={}\n",
    "hm ={}\n",
    "hl ={}\n",
    "mh ={}\n",
    "mm ={}\n",
    "ml ={}\n",
    "lh ={}\n",
    "lm ={}\n",
    "ll ={}\n",
    "\n",
    "for p in newpairs:\n",
    "    if filteresult[p][0]>= corrtwothird and filteresult[p][1]>=muitwothird:\n",
    "        hh[p]=filteresult[p]\n",
    "    elif filteresult[p][0]>= corrtwothird and filteresult[p][1]<muitwothird and filteresult[p][1]>=muionethird:\n",
    "        hm[p]=filteresult[p]\n",
    "    elif filteresult[p][0]>= corrtwothird and filteresult[p][1]<muionethird:\n",
    "        hl[p]=filteresult[p]\n",
    "    elif filteresult[p][0]<corrtwothird and filteresult[p][0]>=corronethird and filteresult[p][1]>=muitwothird:\n",
    "        mh[p]=filteresult[p]\n",
    "    elif filteresult[p][0]<corrtwothird and filteresult[p][0]>=corronethird and filteresult[p][1]<muitwothird and filteresult[p][1]>=muionethird:\n",
    "        mm[p]=filteresult[p]\n",
    "    elif filteresult[p][0]<corrtwothird and filteresult[p][0]>=corronethird and filteresult[p][1]<muionethird:\n",
    "        ml[p]=filteresult[p]\n",
    "    elif filteresult[p][0]<corronethird and filteresult[p][1]>=muitwothird:\n",
    "        lh[p]=filteresult[p]\n",
    "    elif filteresult[p][0]<corronethird and filteresult[p][1]<muitwothird and filteresult[p][1]>=muionethird:\n",
    "        lm[p]=filteresult[p]\n",
    "    elif filteresult[p][0]<corronethird and filteresult[p][1]<muionethird:\n",
    "        ll[p]=filteresult[p]\n",
    "    "
   ]
  },
  {
   "cell_type": "code",
   "execution_count": 120,
   "metadata": {
    "collapsed": true
   },
   "outputs": [],
   "source": [
    "with open('hh.pickle', 'wb') as handle:\n",
    "    pickle.dump(hh, handle, protocol=pickle.HIGHEST_PROTOCOL)"
   ]
  },
  {
   "cell_type": "markdown",
   "metadata": {},
   "source": [
    "with open('hh.pickle', 'rb') as handle:\n",
    "    unserialized_data = pickle.load(handle)\n",
    "unserialized_data"
   ]
  },
  {
   "cell_type": "code",
   "execution_count": 121,
   "metadata": {},
   "outputs": [
    {
     "data": {
      "text/html": [
       "<div>\n",
       "<style>\n",
       "    .dataframe thead tr:only-child th {\n",
       "        text-align: right;\n",
       "    }\n",
       "\n",
       "    .dataframe thead th {\n",
       "        text-align: left;\n",
       "    }\n",
       "\n",
       "    .dataframe tbody tr th {\n",
       "        vertical-align: top;\n",
       "    }\n",
       "</style>\n",
       "<table border=\"1\" class=\"dataframe\">\n",
       "  <thead>\n",
       "    <tr style=\"text-align: right;\">\n",
       "      <th></th>\n",
       "      <th>high</th>\n",
       "      <th>median</th>\n",
       "      <th>low</th>\n",
       "    </tr>\n",
       "  </thead>\n",
       "  <tbody>\n",
       "    <tr>\n",
       "      <th>high</th>\n",
       "      <td>383416.0</td>\n",
       "      <td>122815.0</td>\n",
       "      <td>76538.0</td>\n",
       "    </tr>\n",
       "    <tr>\n",
       "      <th>median</th>\n",
       "      <td>151287.0</td>\n",
       "      <td>224220.0</td>\n",
       "      <td>190121.0</td>\n",
       "    </tr>\n",
       "    <tr>\n",
       "      <th>low</th>\n",
       "      <td>48066.0</td>\n",
       "      <td>218593.0</td>\n",
       "      <td>298970.0</td>\n",
       "    </tr>\n",
       "  </tbody>\n",
       "</table>\n",
       "</div>"
      ],
      "text/plain": [
       "            high    median       low\n",
       "high    383416.0  122815.0   76538.0\n",
       "median  151287.0  224220.0  190121.0\n",
       "low      48066.0  218593.0  298970.0"
      ]
     },
     "execution_count": 121,
     "metadata": {},
     "output_type": "execute_result"
    }
   ],
   "source": [
    "showheat = pd.DataFrame(np.zeros((3,3)),columns = ['high','median','low'],index = ['high','median','low'])\n",
    "showheat['high']['high']=len(hh)\n",
    "showheat['high']['median']=len(hm)\n",
    "showheat['high']['low']=len(hl)\n",
    "showheat['median']['high']=len(mh)\n",
    "showheat['median']['median']=len(mm)\n",
    "showheat['median']['low']=len(ml)\n",
    "showheat['low']['high']=len(lh)\n",
    "showheat['low']['median']=len(lm)\n",
    "showheat['low']['low']=len(ll)\n",
    "ax = sns.heatmap(showheat, annot=True)\n",
    "ax.set(xlabel=\"adjusted mutual information\", ylabel=\"correlation\")\n",
    "showheat"
   ]
  },
  {
   "cell_type": "code",
   "execution_count": 122,
   "metadata": {},
   "outputs": [
    {
     "data": {
      "image/png": "[encoded data removed]",
      "text/plain": [
       "<matplotlib.figure.Figure at 0x211203de2e8>"
      ]
     },
     "metadata": {},
     "output_type": "display_data"
    }
   ],
   "source": [
    "plt.show()"
   ]
  },
  {
   "cell_type": "markdown",
   "metadata": {},
   "source": [
    "_We have 49959 pairs with low correlation but high adjusted mutual information (relatively)_"
   ]
  },
  {
   "cell_type": "code",
   "execution_count": 123,
   "metadata": {
    "collapsed": true
   },
   "outputs": [],
   "source": [
    "sample = list(filteresult.values())"
   ]
  },
  {
   "cell_type": "code",
   "execution_count": 124,
   "metadata": {
    "collapsed": true
   },
   "outputs": [],
   "source": [
    "mui = [p[1] for p in sample]\n",
    "corre = [p[0] for p in sample]"
   ]
  },
  {
   "cell_type": "code",
   "execution_count": 125,
   "metadata": {},
   "outputs": [
    {
     "data": {
      "text/plain": [
       "Text(0,0.5,'Correlation')"
      ]
     },
     "execution_count": 125,
     "metadata": {},
     "output_type": "execute_result"
    }
   ],
   "source": [
    "colors = np.random.rand(len(mui))\n",
    "plt.scatter(mui, corre, c = colors)\n",
    "plt.title(\"adjusted mutual information vs. Correlation\")\n",
    "plt.xlabel(\"adjusted mutual information\")\n",
    "plt.ylabel(\"Correlation\")"
   ]
  },
  {
   "cell_type": "code",
   "execution_count": 126,
   "metadata": {},
   "outputs": [
    {
     "data": {
      "image/png": "[encoded data removed]",
      "text/plain": [
       "<matplotlib.figure.Figure at 0x2114512e7b8>"
      ]
     },
     "metadata": {},
     "output_type": "display_data"
    }
   ],
   "source": [
    "plt.show()"
   ]
  },
  {
   "cell_type": "markdown",
   "metadata": {},
   "source": [
    "_According to graph, first cut correlation at 0.4, ami at 0.15_"
   ]
  },
  {
   "cell_type": "code",
   "execution_count": 128,
   "metadata": {
    "collapsed": true
   },
   "outputs": [],
   "source": [
    "cavecorr = pd.DataFrame(np.zeros((length,length)),index = chunkframe.columns, columns = chunkframe.columns)\n",
    "cavemuti = pd.DataFrame(np.zeros((length,length)),index = chunkframe.columns, columns = chunkframe.columns)"
   ]
  },
  {
   "cell_type": "code",
   "execution_count": 129,
   "metadata": {
    "collapsed": true
   },
   "outputs": [],
   "source": [
    "cave = {}\n",
    "for p in newpairs:\n",
    "    if filteresult[p][0]>=0.4 or filteresult[p][1]>=0.15:\n",
    "        cave[p]=filteresult[p]\n",
    "        cavecorr[p[0]][p[1]]=filteresult[p][0]\n",
    "        cavemuti[p[0]][p[1]]=filteresult[p][1]\n",
    "bb = [b for b in cave.values()]"
   ]
  },
  {
   "cell_type": "code",
   "execution_count": 130,
   "metadata": {
    "collapsed": true
   },
   "outputs": [],
   "source": [
    "bb0 = [b[0] for b in bb]\n",
    "bb1 = [b[1] for b in bb]"
   ]
  },
  {
   "cell_type": "code",
   "execution_count": 131,
   "metadata": {},
   "outputs": [
    {
     "data": {
      "text/plain": [
       "{'max': 0.5984014525774638,\n",
       " 'mean': 0.096022390428114085,\n",
       " 'median': 0.07857503410621508,\n",
       " 'min': 0.00090790938616883414,\n",
       " 'std': 0.052688056750460802}"
      ]
     },
     "execution_count": 131,
     "metadata": {},
     "output_type": "execute_result"
    }
   ],
   "source": [
    "muinfosum2 = {'mean':np.mean(bb1),'std':np.std(bb1),'median':np.median(bb1),'max':max(bb1),'min':min(bb1)}\n",
    "muinfosum2"
   ]
  },
  {
   "cell_type": "code",
   "execution_count": 132,
   "metadata": {},
   "outputs": [
    {
     "data": {
      "text/plain": [
       "{'max': 0.98374948796804673,\n",
       " 'mean': 0.50677028412692482,\n",
       " 'median': 0.46599257341126843,\n",
       " 'min': 0.29296154989735018,\n",
       " 'std': 0.10687863702707714}"
      ]
     },
     "execution_count": 132,
     "metadata": {},
     "output_type": "execute_result"
    }
   ],
   "source": [
    "corrfosum2 = {'mean':np.mean(bb0),'std':np.std(bb0),'median':np.median(bb0),'max':max(bb0),'min':min(bb0)}\n",
    "corrfosum2"
   ]
  },
  {
   "cell_type": "code",
   "execution_count": 133,
   "metadata": {},
   "outputs": [
    {
     "data": {
      "text/plain": [
       "Text(0,0.5,'Correlation')"
      ]
     },
     "execution_count": 133,
     "metadata": {},
     "output_type": "execute_result"
    }
   ],
   "source": [
    "sample2 = list(cave.values())\n",
    "mui2 = [p[1] for p in sample2]\n",
    "corre2 = [p[0] for p in sample2]\n",
    "\n",
    "colors = np.random.rand(len(cave))\n",
    "plt.scatter(mui2, corre2, c = colors)\n",
    "plt.title(\"adjusted mutual information vs. Correlation\")\n",
    "plt.xlabel(\"adjusted mutual information\")\n",
    "plt.ylabel(\"Correlation\")"
   ]
  },
  {
   "cell_type": "code",
   "execution_count": 134,
   "metadata": {},
   "outputs": [
    {
     "data": {
      "image/png": "[encoded data removed]",
      "text/plain": [
       "<matplotlib.figure.Figure at 0x2111e2ca710>"
      ]
     },
     "metadata": {},
     "output_type": "display_data"
    }
   ],
   "source": [
    "plt.show()"
   ]
  },
  {
   "cell_type": "markdown",
   "metadata": {},
   "source": [
    "_let's see the top 50 pairs for correlation and ami_"
   ]
  },
  {
   "cell_type": "code",
   "execution_count": 135,
   "metadata": {},
   "outputs": [
    {
     "data": {
      "text/plain": [
       "[(('UL', 'UN'), [0.98374948796804673, 0.36887225322584377]),\n",
       " (('BBL', 'BHP'), [0.97443729396587764, 0.5984014525774638]),\n",
       " (('LBRDA', 'CHTR'), [0.94163749868629321, 0.42516824754988408]),\n",
       " (('BBD', 'ITUB'), [0.93518114619343862, 0.40143771885870833]),\n",
       " (('RELX', 'RENX'), [0.93449934239851529, 0.42986416945283801]),\n",
       " (('CMS', 'XEL'), [0.90859383862520393, 0.37772435060725945]),\n",
       " (('JPM', 'BAC'), [0.89330501941248552, 0.34802504615859042]),\n",
       " (('XEL', 'ED'), [0.88694299695209566, 0.39791918721699748]),\n",
       " (('LNT', 'XEL'), [0.88422999456544116, 0.32706562623949387]),\n",
       " (('WEC', 'ED'), [0.88200191943348516, 0.30641046086541973]),\n",
       " (('LNT', 'CMS'), [0.87622595374308665, 0.30125222979857963]),\n",
       " (('SNV', 'PB'), [0.87528879427859152, 0.35073404506112771]),\n",
       " (('AEP', 'XEL'), [0.87471216717816458, 0.32988948554375097]),\n",
       " (('CMA', 'CFG'), [0.87469439066641486, 0.32815494758096775]),\n",
       " (('BXS', 'PB'), [0.87329712689987682, 0.3052761650455873]),\n",
       " (('LNT', 'WEC'), [0.87155752171102874, 0.32040685715942246]),\n",
       " (('RF', 'STI'), [0.87022428947814678, 0.390017283574847]),\n",
       " (('STI', 'PNC'), [0.86956424254341569, 0.33935562454115281]),\n",
       " (('LNT', 'PNW'), [0.86947853666217301, 0.32664468963635518]),\n",
       " (('PNW', 'XEL'), [0.86914823613982095, 0.34322067129786943]),\n",
       " (('WEC', 'XEL'), [0.86887733277117862, 0.32231870856329464]),\n",
       " (('PRU', 'LNC'), [0.86831221858355445, 0.341288009986499]),\n",
       " (('SNV', 'BXS'), [0.8673646968975568, 0.32327216026611499]),\n",
       " (('UMPQ', 'FULT'), [0.86652106368395665, 0.34766724388781584]),\n",
       " (('SNV', 'BOH'), [0.86632910589161005, 0.3420341259071023]),\n",
       " (('SNV', 'EWBC'), [0.86508677179479787, 0.34233734065090865]),\n",
       " (('RF', 'ZION'), [0.86492402994320983, 0.31155547901120928]),\n",
       " (('GBCI', 'COLB'), [0.86450593734420833, 0.32203156656325221]),\n",
       " (('CMS', 'ED'), [0.86421549743473647, 0.31022316147911216]),\n",
       " (('SNV', 'GBCI'), [0.86374903231531241, 0.30660751338164277]),\n",
       " (('UNM', 'LNC'), [0.86238969652135933, 0.31421305564563279]),\n",
       " (('CBU', 'GBCI'), [0.86230627646829827, 0.32303646214399817]),\n",
       " (('SNV', 'FULT'), [0.86207801797082495, 0.3735867986407484]),\n",
       " (('GBCI', 'FULT'), [0.86124761869557553, 0.32978800023857502]),\n",
       " (('KEY', 'STI'), [0.86092681376750768, 0.33088581314301874]),\n",
       " (('SNV', 'WAL'), [0.86068116388610616, 0.34057259464808992]),\n",
       " (('PNW', 'ED'), [0.86065850971845648, 0.31065769288463146]),\n",
       " (('SNV', 'CMA'), [0.86007993477783717, 0.35517526363019608]),\n",
       " (('CMA', 'ZION'), [0.85996006176953033, 0.3210450701673418]),\n",
       " (('SNV', 'WBS'), [0.85979767122489537, 0.31747023706286887]),\n",
       " (('DUK', 'ED'), [0.85821495190343389, 0.33424191249155411]),\n",
       " (('EWBC', 'PB'), [0.8579718522431109, 0.30938453865499732]),\n",
       " (('CMA', 'STI'), [0.85713929977890357, 0.33100593489168745]),\n",
       " (('SNV', 'UMPQ'), [0.85704487200752044, 0.33223921430352377]),\n",
       " (('STI', 'HBAN'), [0.85683450278457629, 0.3603606484894562]),\n",
       " (('LNT', 'AEE'), [0.85645209281997192, 0.31968856121590838]),\n",
       " (('CBU', 'FCF'), [0.85644079672807338, 0.2811147218629208]),\n",
       " (('STI', 'BAC'), [0.8563400813074642, 0.28797134447817363]),\n",
       " (('EWBC', 'WAL'), [0.85507222808027028, 0.31197561456261785]),\n",
       " (('AEP', 'ED'), [0.85464795800464555, 0.2828008512666671])]"
      ]
     },
     "execution_count": 135,
     "metadata": {},
     "output_type": "execute_result"
    }
   ],
   "source": [
    "corrdc1 = collections.OrderedDict(sorted(cave.items(), key=lambda k :k[1][0], reverse=True))\n",
    "list(corrdc1.items())[0:50]"
   ]
  },
  {
   "cell_type": "code",
   "execution_count": 136,
   "metadata": {},
   "outputs": [
    {
     "data": {
      "text/plain": [
       "[(('BBL', 'BHP'), [0.97443729396587764, 0.5984014525774638]),\n",
       " (('RELX', 'RENX'), [0.93449934239851529, 0.42986416945283801]),\n",
       " (('LBRDA', 'CHTR'), [0.94163749868629321, 0.42516824754988408]),\n",
       " (('BBD', 'ITUB'), [0.93518114619343862, 0.40143771885870833]),\n",
       " (('XEL', 'ED'), [0.88694299695209566, 0.39791918721699748]),\n",
       " (('RF', 'STI'), [0.87022428947814678, 0.390017283574847]),\n",
       " (('CMS', 'XEL'), [0.90859383862520393, 0.37772435060725945]),\n",
       " (('SNV', 'FULT'), [0.86207801797082495, 0.3735867986407484]),\n",
       " (('UL', 'UN'), [0.98374948796804673, 0.36887225322584377]),\n",
       " (('SNV', 'STI'), [0.84867330060102797, 0.36419253972799254]),\n",
       " (('STI', 'HBAN'), [0.85683450278457629, 0.3603606484894562]),\n",
       " (('SNV', 'CMA'), [0.86007993477783717, 0.35517526363019608]),\n",
       " (('SNV', 'PB'), [0.87528879427859152, 0.35073404506112771]),\n",
       " (('KEY', 'HBAN'), [0.85249511014986101, 0.35002418368085758]),\n",
       " (('JPM', 'BAC'), [0.89330501941248552, 0.34802504615859042]),\n",
       " (('SNV', 'HBAN'), [0.84789893360729596, 0.34791531167493817]),\n",
       " (('UMPQ', 'FULT'), [0.86652106368395665, 0.34766724388781584]),\n",
       " (('VMC', 'MLM'), [0.84602075057360859, 0.34692156972959992]),\n",
       " (('VLY', 'FULT'), [0.82976596951638892, 0.34687861749689403]),\n",
       " (('PNW', 'XEL'), [0.86914823613982095, 0.34322067129786943]),\n",
       " (('SNV', 'EWBC'), [0.86508677179479787, 0.34233734065090865]),\n",
       " (('SNV', 'BOH'), [0.86632910589161005, 0.3420341259071023]),\n",
       " (('SNV', 'CBSH'), [0.79882430213709665, 0.34202373058353597]),\n",
       " (('PRU', 'LNC'), [0.86831221858355445, 0.341288009986499]),\n",
       " (('SNV', 'WAL'), [0.86068116388610616, 0.34057259464808992]),\n",
       " (('STI', 'PNC'), [0.86956424254341569, 0.33935562454115281]),\n",
       " (('DUK', 'ED'), [0.85821495190343389, 0.33424191249155411]),\n",
       " (('RIO', 'BHP'), [0.84829094183586329, 0.33252556217757268]),\n",
       " (('STI', 'ZION'), [0.84535703818475316, 0.33234562006217022]),\n",
       " (('SNV', 'UMPQ'), [0.85704487200752044, 0.33223921430352377]),\n",
       " (('UMPQ', 'COLB'), [0.83704415232873408, 0.33116578259194285]),\n",
       " (('CMA', 'STI'), [0.85713929977890357, 0.33100593489168745]),\n",
       " (('SNV', 'ASB'), [0.84324792802602622, 0.33100216479300953]),\n",
       " (('KEY', 'STI'), [0.86092681376750768, 0.33088581314301874]),\n",
       " (('AEP', 'XEL'), [0.87471216717816458, 0.32988948554375097]),\n",
       " (('GBCI', 'FULT'), [0.86124761869557553, 0.32978800023857502]),\n",
       " (('CMA', 'CFG'), [0.87469439066641486, 0.32815494758096775]),\n",
       " (('CMA', 'HBAN'), [0.84547129630353302, 0.32745910765165298]),\n",
       " (('GBCI', 'CBSH'), [0.7955146279853732, 0.32727544560061572]),\n",
       " (('ASB', 'FULT'), [0.81877842172984394, 0.32707301755332008]),\n",
       " (('LNT', 'XEL'), [0.88422999456544116, 0.32706562623949387]),\n",
       " (('GBCI', 'PB'), [0.85127873086557404, 0.32670493089763208]),\n",
       " (('LNT', 'PNW'), [0.86947853666217301, 0.32664468963635518]),\n",
       " (('SNV', 'BXS'), [0.8673646968975568, 0.32327216026611499]),\n",
       " (('CBU', 'GBCI'), [0.86230627646829827, 0.32303646214399817]),\n",
       " (('ASB', 'UMPQ'), [0.79731429949509947, 0.32256935516579388]),\n",
       " (('WEC', 'XEL'), [0.86887733277117862, 0.32231870856329464]),\n",
       " (('CBU', 'NBTB'), [0.83874618167718062, 0.32224338038569383]),\n",
       " (('KEY', 'CMA'), [0.8530397405940674, 0.32221062358500169]),\n",
       " (('GBCI', 'COLB'), [0.86450593734420833, 0.32203156656325221])]"
      ]
     },
     "execution_count": 136,
     "metadata": {},
     "output_type": "execute_result"
    }
   ],
   "source": [
    "amidc1 = collections.OrderedDict(sorted(cave.items(), key=lambda k :k[1][1], reverse=True))\n",
    "list(amidc1.items())[0:50]"
   ]
  },
  {
   "cell_type": "markdown",
   "metadata": {},
   "source": [
    "_Conclusion:_"
   ]
  },
  {
   "cell_type": "markdown",
   "metadata": {},
   "source": [
    "_First take all pairs whose correlation is larger than 0.4 or adjusted mutual information larger than 0.15_"
   ]
  },
  {
   "cell_type": "code",
   "execution_count": 137,
   "metadata": {
    "collapsed": true
   },
   "outputs": [],
   "source": [
    "with open('cave.pickle', 'wb') as handle:\n",
    "    pickle.dump(cave, handle, protocol=pickle.HIGHEST_PROTOCOL)"
   ]
  }
 ],
 "metadata": {
  "kernelspec": {
   "display_name": "Python 3",
   "language": "python",
   "name": "python3"
  },
  "language_info": {
   "codemirror_mode": {
    "name": "ipython",
    "version": 3
   },
   "file_extension": ".py",
   "mimetype": "text/x-python",
   "name": "python",
   "nbconvert_exporter": "python",
   "pygments_lexer": "ipython3",
   "version": "3.6.3"
  }
 },
 "nbformat": 4,
 "nbformat_minor": 2
}
